{
  "cells": [
    {
      "cell_type": "markdown",
      "metadata": {
        "id": "zz5QyigbTxaM"
      },
      "source": [
        "# **Improved cell segmentation using U-net in deep learning**"
      ]
    },
    {
      "cell_type": "markdown",
      "metadata": {
        "id": "iwEAyK8RSlSS"
      },
      "source": [
        "## Probem Definition"
      ]
    },
    {
      "cell_type": "markdown",
      "metadata": {
        "id": "ZuTDvZ-qT5SM"
      },
      "source": [
        "***Here's an outline of the steps we'll follow:***"
      ]
    },
    {
      "cell_type": "markdown",
      "metadata": {
        "id": "E6AwXohbUVWf"
      },
      "source": [
        "Data Preparation:\n",
        "\n",
        "*Obtain a dataset of labeled cell images for training and testing.\n",
        "Split the dataset into training and testing sets.\n",
        "Preprocess the images and labels if necessary (e.g., resizing, normalization).*\n",
        "U-Net Model Architecture:\n",
        "\n",
        "Build the U-Net model using convolutional layers, pooling layers, and upsampling layers.\n",
        "Define appropriate activation functions and loss functions.\n",
        "Compile the model with an optimizer.\n",
        "Model Training:\n",
        "\n",
        "Train the U-Net model using the prepared training dataset.\n",
        "Monitor the training process and adjust hyperparameters if needed.\n",
        "Save the trained model for later use.\n",
        "Model Evaluation:\n",
        "\n",
        "Evaluate the trained model using the testing dataset.\n",
        "Calculate performance metrics such as accuracy, precision, and recall.\n",
        "Visualize the segmentation results for qualitative analysis.\n",
        "Let's start with the implementation of each step."
      ]
    },
    {
      "cell_type": "markdown",
      "metadata": {
        "id": "rsudGSYHU-1n"
      },
      "source": [
        "**Step 1: Data Preparation**\n",
        "\n",
        "Obtain a dataset of labeled cell images. You can find publicly available datasets or create your own labeled dataset.\n",
        "Split the dataset into training and testing sets. Typically, an 80/20 or 70/30 split is used.\n",
        "Preprocess the images and labels if necessary. This may involve resizing the images to a consistent size, normalizing pixel values, or augmenting the dataset with transformations like rotation or flipping.\n",
        "\n",
        "**Step 2: U-Net Model Architecture**\n",
        "\n",
        "We'll define the U-Net model using Keras, a popular deep learning library. Here's an example implementation:"
      ]
    },
    {
      "cell_type": "code",
      "execution_count": 1,
      "metadata": {
        "colab": {
          "base_uri": "https://localhost:8080/"
        },
        "id": "eT8dul6TezIG",
        "outputId": "90bf2c2b-c98b-4820-bf43-2a22b952042d"
      },
      "outputs": [
        {
          "output_type": "stream",
          "name": "stdout",
          "text": [
            "Drive already mounted at /content/drive; to attempt to forcibly remount, call drive.mount(\"/content/drive\", force_remount=True).\n"
          ]
        }
      ],
      "source": [
        "from google.colab import drive\n",
        "drive.mount(\"/content/drive\")"
      ]
    },
    {
      "cell_type": "code",
      "execution_count": 2,
      "metadata": {
        "colab": {
          "base_uri": "https://localhost:8080/"
        },
        "id": "GNtmrrhl5duh",
        "outputId": "7ca59ba7-ad7a-4e30-eddb-a13e97f666c6"
      },
      "outputs": [
        {
          "output_type": "stream",
          "name": "stdout",
          "text": [
            "Name: Pillow\n",
            "Version: 9.4.0\n",
            "Summary: Python Imaging Library (Fork)\n",
            "Home-page: https://python-pillow.org\n",
            "Author: Alex Clark (PIL Fork Author)\n",
            "Author-email: aclark@python-pillow.org\n",
            "License: HPND\n",
            "Location: /usr/local/lib/python3.10/dist-packages\n",
            "Requires: \n",
            "Required-by: bokeh, dopamine-rl, fastai, imageio, imgaug, matplotlib, scikit-image, torchvision, wordcloud\n"
          ]
        }
      ],
      "source": [
        "!pip show pillow"
      ]
    },
    {
      "cell_type": "code",
      "execution_count": 3,
      "metadata": {
        "colab": {
          "base_uri": "https://localhost:8080/"
        },
        "id": "Ig3_jOK2iLP4",
        "outputId": "07c417db-e315-4094-9e4a-8fcd95f6f52d"
      },
      "outputs": [
        {
          "output_type": "stream",
          "name": "stdout",
          "text": [
            "Requirement already satisfied: pandas_read_xml in /usr/local/lib/python3.10/dist-packages (0.3.1)\n",
            "Requirement already satisfied: pyarrow in /usr/local/lib/python3.10/dist-packages (from pandas_read_xml) (9.0.0)\n",
            "Requirement already satisfied: pandas in /usr/local/lib/python3.10/dist-packages (from pandas_read_xml) (1.5.3)\n",
            "Requirement already satisfied: xmltodict in /usr/local/lib/python3.10/dist-packages (from pandas_read_xml) (0.13.0)\n",
            "Requirement already satisfied: requests in /usr/local/lib/python3.10/dist-packages (from pandas_read_xml) (2.31.0)\n",
            "Requirement already satisfied: zipfile36 in /usr/local/lib/python3.10/dist-packages (from pandas_read_xml) (0.1.3)\n",
            "Requirement already satisfied: distlib in /usr/local/lib/python3.10/dist-packages (from pandas_read_xml) (0.3.7)\n",
            "Requirement already satisfied: urllib3>=1.26.3 in /usr/local/lib/python3.10/dist-packages (from pandas_read_xml) (2.0.4)\n",
            "Requirement already satisfied: python-dateutil>=2.8.1 in /usr/local/lib/python3.10/dist-packages (from pandas->pandas_read_xml) (2.8.2)\n",
            "Requirement already satisfied: pytz>=2020.1 in /usr/local/lib/python3.10/dist-packages (from pandas->pandas_read_xml) (2023.3.post1)\n",
            "Requirement already satisfied: numpy>=1.21.0 in /usr/local/lib/python3.10/dist-packages (from pandas->pandas_read_xml) (1.23.5)\n",
            "Requirement already satisfied: charset-normalizer<4,>=2 in /usr/local/lib/python3.10/dist-packages (from requests->pandas_read_xml) (3.2.0)\n",
            "Requirement already satisfied: idna<4,>=2.5 in /usr/local/lib/python3.10/dist-packages (from requests->pandas_read_xml) (3.4)\n",
            "Requirement already satisfied: certifi>=2017.4.17 in /usr/local/lib/python3.10/dist-packages (from requests->pandas_read_xml) (2023.7.22)\n",
            "Requirement already satisfied: six>=1.5 in /usr/local/lib/python3.10/dist-packages (from python-dateutil>=2.8.1->pandas->pandas_read_xml) (1.16.0)\n"
          ]
        }
      ],
      "source": [
        "!pip install pandas_read_xml"
      ]
    },
    {
      "cell_type": "code",
      "execution_count": 4,
      "metadata": {
        "id": "Pa0C6rzL6yJ0"
      },
      "outputs": [],
      "source": [
        "# Import libries\n",
        "import os\n",
        "import numpy as np\n",
        "from PIL import Image\n",
        "import cv2\n",
        "import matplotlib.pyplot as plt\n",
        "import xml.etree.ElementTree as ET\n",
        "\n",
        "import pandas_read_xml as pdx\n",
        "from pandas_read_xml import flatten\n",
        "\n",
        "from sklearn.model_selection import train_test_split\n",
        "from tensorflow.keras.models import Model\n",
        "import tensorflow as tf\n",
        "\n",
        "from tensorflow.keras.layers import Input, Conv2D, MaxPooling2D, Dropout, UpSampling2D, Concatenate\n",
        "from tensorflow.keras.optimizers import Adam\n",
        "from tensorflow.keras.metrics import MeanIoU\n",
        "\n"
      ]
    },
    {
      "cell_type": "code",
      "execution_count": 5,
      "metadata": {
        "id": "0SniQZww8bcg"
      },
      "outputs": [],
      "source": [
        "def setup_gpu():\n",
        "    gpus = tf.config.experimental.list_physical_devices('GPU')\n",
        "    if gpus:\n",
        "      # Restrict TensorFlow to only allocate 1GB of memory on the first GPU\n",
        "      try:\n",
        "        tf.config.experimental.set_virtual_device_configuration(\n",
        "            gpus[0],\n",
        "            [tf.config.experimental.VirtualDeviceConfiguration(memory_limit=1024)])\n",
        "        logical_gpus = tf.config.experimental.list_logical_devices('GPU')\n",
        "        print(len(gpus), \"Physical GPUs,\", len(logical_gpus), \"Logical GPUs\")\n",
        "      except RuntimeError as e:\n",
        "        # Virtual devices must be set before GPUs have been initialized\n",
        "        print(e)"
      ]
    },
    {
      "cell_type": "code",
      "execution_count": 6,
      "metadata": {
        "id": "iZSHUVmg8cuH"
      },
      "outputs": [],
      "source": [
        "setup_gpu()"
      ]
    },
    {
      "cell_type": "code",
      "execution_count": 7,
      "metadata": {
        "colab": {
          "base_uri": "https://localhost:8080/"
        },
        "id": "-f8kS3mTUFoA",
        "outputId": "798d4f3c-95c8-4903-b364-a442a0c085b9"
      },
      "outputs": [
        {
          "output_type": "stream",
          "name": "stdout",
          "text": [
            "3512\n"
          ]
        }
      ],
      "source": [
        "\n",
        "# Set the path to the directory containing your dataset in Google Drive\n",
        "dataset_dir = '/content/drive/MyDrive/allfilesproject2023/Original Dataset/'\n",
        "\n",
        "file_names = os.listdir(dataset_dir)\n",
        "#print(type(file_names))\n",
        "print(len(file_names))"
      ]
    },
    {
      "cell_type": "markdown",
      "metadata": {
        "id": "HImcDF9CFUjy"
      },
      "source": [
        "## Build the Dataset"
      ]
    },
    {
      "cell_type": "code",
      "execution_count": 16,
      "metadata": {
        "colab": {
          "base_uri": "https://localhost:8080/"
        },
        "id": "Rhz3Ye_Ak6Rk",
        "outputId": "7400c1fb-be2a-40fd-9c94-8ecf07c1e076"
      },
      "outputs": [
        {
          "output_type": "stream",
          "name": "stdout",
          "text": [
            "PNG Files: 1756\n",
            "XML Files: 1756\n"
          ]
        }
      ],
      "source": [
        "# List of files\n",
        "files = file_names\n",
        "\n",
        "# Empty lists to hold png and xml files\n",
        "png_files = []\n",
        "xml_files = []\n",
        "\n",
        "# Loop through the list of files\n",
        "for file in files:\n",
        "    # Check if the file ends with '.png'\n",
        "    if file.endswith('.png'):\n",
        "        png_files.append(file)\n",
        "    # Check if the file ends with '.xml'\n",
        "    elif file.endswith('.xml'):\n",
        "        xml_files.append(file)\n",
        "\n",
        "# Sort the png and xml files list\n",
        "png_files.sort()\n",
        "xml_files.sort()\n",
        "\n",
        "\n",
        "print(\"PNG Files:\", len(png_files))\n",
        "print(\"XML Files:\", len(xml_files))\n"
      ]
    },
    {
      "cell_type": "code",
      "source": [
        "value = png_files[40]\n",
        "\n",
        "value"
      ],
      "metadata": {
        "colab": {
          "base_uri": "https://localhost:8080/",
          "height": 36
        },
        "id": "97vRhDWUQpy6",
        "outputId": "cf3210b8-b4ae-47ae-fdc6-52234e0d2313"
      },
      "execution_count": null,
      "outputs": [
        {
          "output_type": "execute_result",
          "data": {
            "text/plain": [
              "'b (633).png'"
            ],
            "application/vnd.google.colaboratory.intrinsic+json": {
              "type": "string"
            }
          },
          "metadata": {},
          "execution_count": 9
        }
      ]
    },
    {
      "cell_type": "code",
      "source": [
        "xml_files[40]"
      ],
      "metadata": {
        "colab": {
          "base_uri": "https://localhost:8080/",
          "height": 36
        },
        "id": "T12WEifGTbij",
        "outputId": "a911ead3-1717-4ef8-d032-fe6fb53ed23b"
      },
      "execution_count": null,
      "outputs": [
        {
          "output_type": "execute_result",
          "data": {
            "text/plain": [
              "'b (633).xml'"
            ],
            "application/vnd.google.colaboratory.intrinsic+json": {
              "type": "string"
            }
          },
          "metadata": {},
          "execution_count": 10
        }
      ]
    },
    {
      "cell_type": "code",
      "source": [
        "if (value.split(\".\")[0] + \".xml\") in xml_files:\n",
        "    print(\"The value is in the list.\")\n",
        "else:\n",
        "    print(\"The value is not in the list.\")"
      ],
      "metadata": {
        "colab": {
          "base_uri": "https://localhost:8080/"
        },
        "id": "vzR-4DOfQpkh",
        "outputId": "52efa24f-dcda-44d6-86f9-6d5cc8f2dc94"
      },
      "execution_count": null,
      "outputs": [
        {
          "output_type": "stream",
          "name": "stdout",
          "text": [
            "The value is in the list.\n"
          ]
        }
      ]
    },
    {
      "cell_type": "markdown",
      "metadata": {
        "id": "BDaoYsFyUiMm"
      },
      "source": [
        "Visualize the Image file and corresponding xml file"
      ]
    },
    {
      "cell_type": "code",
      "execution_count": null,
      "metadata": {
        "colab": {
          "base_uri": "https://localhost:8080/",
          "height": 471
        },
        "id": "uU1wkEID_JFF",
        "outputId": "7319b9eb-272d-490d-e02a-0eee00c3142d"
      },
      "outputs": [
        {
          "output_type": "stream",
          "name": "stdout",
          "text": [
            "(219, 225)\n"
          ]
        },
        {
          "output_type": "execute_result",
          "data": {
            "text/plain": [
              "<matplotlib.image.AxesImage at 0x7f8937ab1f30>"
            ]
          },
          "metadata": {},
          "execution_count": 12
        },
        {
          "output_type": "display_data",
          "data": {
            "text/plain": [
              "<Figure size 640x480 with 1 Axes>"
            ],
            "image/png": "[encoded data removed]"
          },
          "metadata": {}
        }
      ],
      "source": [
        "img = cv2.imread(os.path.join(dataset_dir, png_files[40]))\n",
        "img = cv2.cvtColor(img,cv2.COLOR_BGR2GRAY)\n",
        "print(img.shape)\n",
        "plt.imshow(img,cmap='gray') #BMP IS IMAGE, PNG IS MASK"
      ]
    },
    {
      "cell_type": "code",
      "source": [
        "p_img = cv2.resize(img,(128,128))\n",
        "\n",
        "p_img.shape"
      ],
      "metadata": {
        "colab": {
          "base_uri": "https://localhost:8080/"
        },
        "id": "-IAaTRq9fyHQ",
        "outputId": "5cf4855b-ae2e-4f03-a933-f37f38588df3"
      },
      "execution_count": null,
      "outputs": [
        {
          "output_type": "execute_result",
          "data": {
            "text/plain": [
              "(128, 128)"
            ]
          },
          "metadata": {},
          "execution_count": 13
        }
      ]
    },
    {
      "cell_type": "code",
      "execution_count": 17,
      "metadata": {
        "id": "8Mrcfhph_pPk"
      },
      "outputs": [],
      "source": [
        "# Split the dataset into training and testing sets\n",
        "X_train, X_test, y_train, y_test = train_test_split(png_files, xml_files, test_size=0.35, random_state=42)"
      ]
    },
    {
      "cell_type": "code",
      "execution_count": 46,
      "metadata": {
        "id": "cdlWQ4vfABeu"
      },
      "outputs": [],
      "source": [
        "\n",
        "###############################\n",
        "# Define the function to load and preprocess the dataset\n",
        "\n",
        "\n",
        "def create_dataset(pic_name, dataset_directory):\n",
        "  #images = []\n",
        "  #masks = []\n",
        "\n",
        "  # Define the number of dead and living cells\n",
        "  living_cell = 0\n",
        "  dead_cell = 0\n",
        "\n",
        "  # Normalize the bounding box coordinates\n",
        "  normalized_bounding_boxes = []\n",
        "\n",
        "  ##############################\n",
        "\n",
        "  file_path_img = os.path.join(dataset_directory, pic_name)\n",
        "  pic_mask = pic_name.split(\".\")[0] + \".xml\"\n",
        "  file_path_mask = os.path.join(dataset_directory, pic_mask)\n",
        "\n",
        "  # Load the image and mask using PIL or any other library suitable for your dataset\n",
        "  # Preprocess the image and mask as needed (e.g., resizing, normalization)\n",
        "\n",
        "\n",
        "  # Convert the image to a NumPy array\n",
        "  image = cv2.imread(file_path_img)\n",
        "  p_img = cv2.resize(image,(128,128))\n",
        "\n",
        "\n",
        "  # Load the mask using the pandas read xml library\n",
        "  # Load the XML mask file\n",
        "  tree = ET.parse(file_path_mask)\n",
        "  root = tree.getroot()\n",
        "  #root = pdx.read_xml(os.path.join(dataset_dir, file_path_mask))\n",
        "  #root = root.pipe(flatten)\n",
        "\n",
        "  # Create an empty mask with the same shape as the image\n",
        "  mask = np.zeros_like(p_img[:, :, 0], dtype=np.uint8)\n",
        "\n",
        "  # Iterate through XML elements to extract bounding box coordinates\n",
        "  for obj in root.findall('.//object'):\n",
        "    class_name = obj.find('name').text\n",
        "    if class_name == 'Living Cell':\n",
        "      xmin = int(obj.find('bndbox/xmin').text)\n",
        "      ymin = int(obj.find('bndbox/ymin').text)\n",
        "      xmax = int(obj.find('bndbox/xmax').text)\n",
        "      ymax = int(obj.find('bndbox/ymax').text)\n",
        "\n",
        "      # Set the region defined by the bounding box to 1 in the mask\n",
        "      mask[ymin:ymax, xmin:xmax] = 1\n",
        "\n",
        "      # Increment the living cell\n",
        "      living_cell += 1\n",
        "    elif class_name == 'Dead Cell':\n",
        "      xmin = int(obj.find('bndbox/xmin').text)\n",
        "      ymin = int(obj.find('bndbox/ymin').text)\n",
        "      xmax = int(obj.find('bndbox/xmax').text)\n",
        "      ymax = int(obj.find('bndbox/ymax').text)\n",
        "\n",
        "      # Set the region defined by the bounding box to 1 in the mask\n",
        "      mask[ymin:ymax, xmin:xmax] = 2\n",
        "\n",
        "      # Increment the dead cell\n",
        "      dead_cell += 1\n",
        "\n",
        "  # Resize labels to match input data shape\n",
        "  resized_labels = cv2.resize(mask, (128, 128), interpolation=cv2.INTER_LINEAR)\n",
        "\n",
        "\n",
        "  #images.append(image)\n",
        "  #masks.append(mask)\n",
        "\n",
        "  return p_img, resized_labels\n",
        "\n"
      ]
    },
    {
      "cell_type": "code",
      "execution_count": 49,
      "metadata": {
        "id": "d04lTE8gDtiO"
      },
      "outputs": [],
      "source": [
        "from keras.utils import to_categorical\n",
        "import random\n",
        "def Generator(X_list, batch_size):\n",
        "    while True:\n",
        "        b = 0\n",
        "        all_i = []\n",
        "        all_m = []\n",
        "        random.shuffle(X_list)\n",
        "        for i in range(batch_size):\n",
        "\n",
        "            image, mask = create_dataset(X_list[i-1], dataset_dir)\n",
        "            print(\"New image shape: \", image.shape)\n",
        "            all_i.append(image)\n",
        "            #mask = mask.reshape((128,128,1))\n",
        "            print(\"New image shape: \", image.shape)\n",
        "            print(\"New mask shape: \", mask.shape)\n",
        "            all_m.append(mask)\n",
        "            b+=1\n",
        "\n",
        "        all_i = np.array(all_i).astype('float32')\n",
        "        all_m = np.array(all_m).astype('float32')\n",
        "\n",
        "        # all_i = tf.convert_to_tensor(all_i)\n",
        "        # tensor_mask = [tf.convert_to_tensor(m) for m in all_m]\n",
        "        #all_m = tf.convert_to_tensor(all_m)\n",
        "        #all_i = all_i.astype('float32')\n",
        "        #all_m = all_m.astype('float32')\n",
        "        #all_m = to_categorical(all_m)\n",
        "        #print(all_m[0])\n",
        "        #print(all_m.shape)\n",
        "\n",
        "        # Print the shape of the loaded dataset to verify correctness\n",
        "        #print(\"Images shape:\", all_i.shape)\n",
        "        #print(\"Masks shape:\", all_m.shape)\n",
        "        yield all_i, all_m\n"
      ]
    },
    {
      "cell_type": "code",
      "source": [
        "\n",
        "import tensorflow as tf\n",
        "import tensorflow.keras as keras\n",
        "from tensorflow.keras.models import Model\n",
        "from tensorflow.keras import layers\n",
        "from keras.utils import to_categorical\n",
        "from tensorflow.keras.optimizers import Adam,RMSprop\n",
        "from tensorflow.keras.layers import Conv2D,Dense,Flatten,Dropout,MaxPool2D,BatchNormalization,Activation,Input,Conv2DTranspose,Concatenate,concatenate,UpSampling2D,add,SeparableConv2D,MaxPooling2D"
      ],
      "metadata": {
        "id": "fD-wvpI_Nn63"
      },
      "execution_count": 10,
      "outputs": []
    },
    {
      "cell_type": "code",
      "execution_count": 26,
      "metadata": {
        "id": "bJ4SSF0zJrJ8"
      },
      "outputs": [],
      "source": [
        "####################\n",
        "from tensorflow.keras.models import Model\n",
        "from tensorflow.keras.layers import Input, Conv2D, MaxPooling2D, Dropout, UpSampling2D, Concatenate\n",
        "\n",
        "\n",
        "def unet_model(input_shape):\n",
        "    # Input layer\n",
        "    inputs = Input(input_shape)\n",
        "\n",
        "    # Downward path\n",
        "    conv1 = Conv2D(64, 3, activation='relu', padding='same')(inputs)\n",
        "    conv1 = Conv2D(64, 3, activation='relu', padding='same')(conv1)\n",
        "    pool1 = MaxPooling2D(pool_size=(2, 2))(conv1)\n",
        "\n",
        "    conv2 = Conv2D(128, 3, activation='relu', padding='same')(pool1)\n",
        "    conv2 = Conv2D(128, 3, activation='relu', padding='same')(conv2)\n",
        "    pool2 = MaxPooling2D(pool_size=(2, 2))(conv2)\n",
        "\n",
        "    # Bottom layer\n",
        "    conv3 = Conv2D(256, 3, activation='relu', padding='same')(pool2)\n",
        "    conv3 = Conv2D(256, 3, activation='relu', padding='same')(conv3)\n",
        "\n",
        "    # Upward path\n",
        "    up4 = Conv2D(128, 2, activation='relu', padding='same')(UpSampling2D(size=(2, 2))(conv3))\n",
        "    merge4 = Concatenate()([conv2, up4])\n",
        "    conv4 = Conv2D(128, 3, activation='relu', padding='same')(merge4)\n",
        "    conv4 = Conv2D(128, 3, activation='relu', padding='same')(conv4)\n",
        "\n",
        "    up5 = Conv2D(64, 2, activation='relu', padding='same')(UpSampling2D(size=(2, 2))(conv4))\n",
        "    merge5 = Concatenate()([conv1, up5])\n",
        "    conv5 = Conv2D(64, 3, activation='relu', padding='same')(merge5)\n",
        "    conv5 = Conv2D(64, 3, activation='relu', padding='same')(conv5)\n",
        "\n",
        "    # Output layer\n",
        "    output = Conv2D(2, 1, activation='softmax')(conv5)\n",
        "\n",
        "    model = Model(inputs=inputs, outputs=output)\n",
        "    return model\n",
        "\n",
        "\n"
      ]
    },
    {
      "cell_type": "code",
      "source": [
        "# Create the model\n",
        "#input_shape = (128, 128, 3)  # Adjust the input shape according to your images\n",
        "input_shape = (128, 128, 3)\n",
        "#model = unet_model(128, 128, 3)"
      ],
      "metadata": {
        "id": "ZphHZ7SqYKcx"
      },
      "execution_count": 12,
      "outputs": []
    },
    {
      "cell_type": "code",
      "source": [
        "tf.config.run_functions_eagerly(True)"
      ],
      "metadata": {
        "id": "EcXjVBTk5BND"
      },
      "execution_count": 13,
      "outputs": []
    },
    {
      "cell_type": "code",
      "source": [
        "model_unet = unet_model(input_shape)\n",
        "#model_unet.compile(optimizer=Adam(), loss='binary_crossentropy', metrics=['accuracy', MeanIoU(num_classes=2, name='IoU')])\n",
        "model_unet.compile(loss='categorical_crossentropy',optimizer=Adam(), metrics=['accuracy', MeanIoU(num_classes=3, name='IoU')])\n",
        "model_unet.summary()"
      ],
      "metadata": {
        "id": "16aNZaghMvNo",
        "colab": {
          "base_uri": "https://localhost:8080/"
        },
        "outputId": "01381f98-ec3d-479a-d188-af49a2214526"
      },
      "execution_count": 27,
      "outputs": [
        {
          "output_type": "stream",
          "name": "stdout",
          "text": [
            "Model: \"model_1\"\n",
            "__________________________________________________________________________________________________\n",
            " Layer (type)                Output Shape                 Param #   Connected to                  \n",
            "==================================================================================================\n",
            " input_2 (InputLayer)        [(None, 128, 128, 3)]        0         []                            \n",
            "                                                                                                  \n",
            " conv2d_13 (Conv2D)          (None, 128, 128, 64)         1792      ['input_2[0][0]']             \n",
            "                                                                                                  \n",
            " conv2d_14 (Conv2D)          (None, 128, 128, 64)         36928     ['conv2d_13[0][0]']           \n",
            "                                                                                                  \n",
            " max_pooling2d_2 (MaxPoolin  (None, 64, 64, 64)           0         ['conv2d_14[0][0]']           \n",
            " g2D)                                                                                             \n",
            "                                                                                                  \n",
            " conv2d_15 (Conv2D)          (None, 64, 64, 128)          73856     ['max_pooling2d_2[0][0]']     \n",
            "                                                                                                  \n",
            " conv2d_16 (Conv2D)          (None, 64, 64, 128)          147584    ['conv2d_15[0][0]']           \n",
            "                                                                                                  \n",
            " max_pooling2d_3 (MaxPoolin  (None, 32, 32, 128)          0         ['conv2d_16[0][0]']           \n",
            " g2D)                                                                                             \n",
            "                                                                                                  \n",
            " conv2d_17 (Conv2D)          (None, 32, 32, 256)          295168    ['max_pooling2d_3[0][0]']     \n",
            "                                                                                                  \n",
            " conv2d_18 (Conv2D)          (None, 32, 32, 256)          590080    ['conv2d_17[0][0]']           \n",
            "                                                                                                  \n",
            " up_sampling2d_2 (UpSamplin  (None, 64, 64, 256)          0         ['conv2d_18[0][0]']           \n",
            " g2D)                                                                                             \n",
            "                                                                                                  \n",
            " conv2d_19 (Conv2D)          (None, 64, 64, 128)          131200    ['up_sampling2d_2[0][0]']     \n",
            "                                                                                                  \n",
            " concatenate_2 (Concatenate  (None, 64, 64, 256)          0         ['conv2d_16[0][0]',           \n",
            " )                                                                   'conv2d_19[0][0]']           \n",
            "                                                                                                  \n",
            " conv2d_20 (Conv2D)          (None, 64, 64, 128)          295040    ['concatenate_2[0][0]']       \n",
            "                                                                                                  \n",
            " conv2d_21 (Conv2D)          (None, 64, 64, 128)          147584    ['conv2d_20[0][0]']           \n",
            "                                                                                                  \n",
            " up_sampling2d_3 (UpSamplin  (None, 128, 128, 128)        0         ['conv2d_21[0][0]']           \n",
            " g2D)                                                                                             \n",
            "                                                                                                  \n",
            " conv2d_22 (Conv2D)          (None, 128, 128, 64)         32832     ['up_sampling2d_3[0][0]']     \n",
            "                                                                                                  \n",
            " concatenate_3 (Concatenate  (None, 128, 128, 128)        0         ['conv2d_14[0][0]',           \n",
            " )                                                                   'conv2d_22[0][0]']           \n",
            "                                                                                                  \n",
            " conv2d_23 (Conv2D)          (None, 128, 128, 64)         73792     ['concatenate_3[0][0]']       \n",
            "                                                                                                  \n",
            " conv2d_24 (Conv2D)          (None, 128, 128, 64)         36928     ['conv2d_23[0][0]']           \n",
            "                                                                                                  \n",
            " conv2d_25 (Conv2D)          (None, 126, 126, 1)          577       ['conv2d_24[0][0]']           \n",
            "                                                                                                  \n",
            "==================================================================================================\n",
            "Total params: 1863361 (7.11 MB)\n",
            "Trainable params: 1863361 (7.11 MB)\n",
            "Non-trainable params: 0 (0.00 Byte)\n",
            "__________________________________________________________________________________________________\n"
          ]
        }
      ]
    },
    {
      "cell_type": "code",
      "source": [
        "print(len(X_train))\n",
        "print(len(X_train)/15)"
      ],
      "metadata": {
        "id": "VU8fwucnM465"
      },
      "execution_count": null,
      "outputs": []
    },
    {
      "cell_type": "code",
      "source": [
        "gen = Generator(X_train, 15)"
      ],
      "metadata": {
        "id": "ql3XzDpiUopM"
      },
      "execution_count": 50,
      "outputs": []
    },
    {
      "cell_type": "code",
      "source": [
        "model_unet.fit(gen, steps_per_epoch=70, epochs = 5)"
      ],
      "metadata": {
        "id": "Mw4MEmVKM7iU",
        "colab": {
          "base_uri": "https://localhost:8080/",
          "height": 1000
        },
        "outputId": "f9e387a6-7a10-4f65-9d94-34dd6839649b"
      },
      "execution_count": 51,
      "outputs": [
        {
          "output_type": "stream",
          "name": "stdout",
          "text": [
            "New image shape:  (128, 128, 3)\n",
            "New image shape:  (128, 128, 3)\n",
            "New mask shape:  (128, 128)\n",
            "New image shape:  (128, 128, 3)\n",
            "New image shape:  (128, 128, 3)\n",
            "New mask shape:  (128, 128)\n",
            "New image shape:  (128, 128, 3)\n",
            "New image shape:  (128, 128, 3)\n",
            "New mask shape:  (128, 128)\n",
            "New image shape:  (128, 128, 3)\n",
            "New image shape:  (128, 128, 3)\n",
            "New mask shape:  (128, 128)\n",
            "New image shape:  (128, 128, 3)\n",
            "New image shape:  (128, 128, 3)\n",
            "New mask shape:  (128, 128)\n",
            "New image shape:  (128, 128, 3)\n",
            "New image shape:  (128, 128, 3)\n",
            "New mask shape:  (128, 128)\n",
            "New image shape:  (128, 128, 3)\n",
            "New image shape:  (128, 128, 3)\n",
            "New mask shape:  (128, 128)\n",
            "New image shape:  (128, 128, 3)\n",
            "New image shape:  (128, 128, 3)\n",
            "New mask shape:  (128, 128)\n",
            "New image shape:  (128, 128, 3)\n",
            "New image shape:  (128, 128, 3)\n",
            "New mask shape:  (128, 128)\n",
            "New image shape:  (128, 128, 3)\n",
            "New image shape:  (128, 128, 3)\n",
            "New mask shape:  (128, 128)\n",
            "New image shape:  (128, 128, 3)\n",
            "New image shape:  (128, 128, 3)\n",
            "New mask shape:  (128, 128)\n",
            "New image shape:  (128, 128, 3)\n",
            "New image shape:  (128, 128, 3)\n",
            "New mask shape:  (128, 128)\n",
            "New image shape:  (128, 128, 3)\n",
            "New image shape:  (128, 128, 3)\n",
            "New mask shape:  (128, 128)\n",
            "New image shape:  (128, 128, 3)\n",
            "New image shape:  (128, 128, 3)\n",
            "New mask shape:  (128, 128)\n",
            "New image shape:  (128, 128, 3)\n",
            "New image shape:  (128, 128, 3)\n",
            "New mask shape:  (128, 128)\n",
            "Epoch 1/5\n"
          ]
        },
        {
          "output_type": "stream",
          "name": "stderr",
          "text": [
            "/usr/local/lib/python3.10/dist-packages/tensorflow/python/data/ops/structured_function.py:265: UserWarning: Even though the `tf.config.experimental_run_functions_eagerly` option is set, this option does not apply to tf.data functions. To force eager execution of tf.data functions, please use `tf.data.experimental.enable_debug_mode()`.\n",
            "  warnings.warn(\n"
          ]
        },
        {
          "output_type": "stream",
          "name": "stdout",
          "text": [
            "New image shape:  (128, 128, 3)\n",
            "New image shape:  (128, 128, 3)\n",
            "New mask shape:  (128, 128)\n",
            "New image shape:  (128, 128, 3)\n",
            "New image shape:  (128, 128, 3)\n",
            "New mask shape:  (128, 128)\n",
            "New image shape:  (128, 128, 3)\n",
            "New image shape:  (128, 128, 3)\n",
            "New mask shape:  (128, 128)\n",
            "New image shape:  (128, 128, 3)\n",
            "New image shape:  (128, 128, 3)\n",
            "New mask shape:  (128, 128)\n",
            "New image shape:  (128, 128, 3)\n",
            "New image shape:  (128, 128, 3)\n",
            "New mask shape:  (128, 128)\n",
            "New image shape:  (128, 128, 3)\n",
            "New image shape:  (128, 128, 3)\n",
            "New mask shape:  (128, 128)\n",
            "New image shape:  (128, 128, 3)\n",
            "New image shape:  (128, 128, 3)\n",
            "New mask shape:  (128, 128)\n",
            "New image shape:  (128, 128, 3)\n",
            "New image shape:  (128, 128, 3)\n",
            "New mask shape:  (128, 128)\n",
            "New image shape:  (128, 128, 3)\n",
            "New image shape:  (128, 128, 3)\n",
            "New mask shape:  (128, 128)\n",
            "New image shape:  (128, 128, 3)\n",
            "New image shape:  (128, 128, 3)\n",
            "New mask shape:  (128, 128)\n",
            "New image shape:  (128, 128, 3)\n",
            "New image shape:  (128, 128, 3)\n",
            "New mask shape:  (128, 128)\n",
            "New image shape:  (128, 128, 3)\n",
            "New image shape:  (128, 128, 3)\n",
            "New mask shape:  (128, 128)\n",
            "New image shape:  (128, 128, 3)\n",
            "New image shape:  (128, 128, 3)\n",
            "New mask shape:  (128, 128)\n",
            "New image shape:  (128, 128, 3)\n",
            "New image shape:  (128, 128, 3)\n",
            "New mask shape:  (128, 128)\n",
            "New image shape:  (128, 128, 3)\n",
            "New image shape:  (128, 128, 3)\n",
            "New mask shape:  (128, 128)\n",
            "New image shape:  (128, 128, 3)\n",
            "New image shape:  (128, 128, 3)\n",
            "New mask shape:  (128, 128)\n",
            "New image shape:  (128, 128, 3)\n",
            "New image shape:  (128, 128, 3)\n",
            "New mask shape:  (128, 128)\n",
            "New image shape:  (128, 128, 3)\n",
            "New image shape:  (128, 128, 3)\n",
            "New mask shape:  (128, 128)\n",
            "New image shape:  (128, 128, 3)\n",
            "New image shape:  (128, 128, 3)\n",
            "New mask shape:  (128, 128)\n",
            "New image shape:  (128, 128, 3)\n",
            "New image shape:  (128, 128, 3)\n",
            "New mask shape:  (128, 128)\n",
            "New image shape:  (128, 128, 3)\n",
            "New image shape:  (128, 128, 3)\n",
            "New mask shape:  (128, 128)\n",
            "New image shape:  (128, 128, 3)\n",
            "New image shape:  (128, 128, 3)\n",
            "New mask shape:  (128, 128)\n",
            "New image shape:  (128, 128, 3)\n",
            "New image shape:  (128, 128, 3)\n",
            "New mask shape:  (128, 128)\n",
            "New image shape:  (128, 128, 3)\n",
            "New image shape:  (128, 128, 3)\n",
            "New mask shape:  (128, 128)\n",
            "New image shape:  (128, 128, 3)\n",
            "New image shape:  (128, 128, 3)\n",
            "New mask shape:  (128, 128)\n",
            "New image shape:  (128, 128, 3)\n",
            "New image shape:  (128, 128, 3)\n",
            "New mask shape:  (128, 128)\n",
            "New image shape:  (128, 128, 3)\n",
            "New image shape:  (128, 128, 3)\n",
            "New mask shape:  (128, 128)\n",
            "New image shape:  (128, 128, 3)\n",
            "New image shape:  (128, 128, 3)\n",
            "New mask shape:  (128, 128)\n",
            "New image shape:  (128, 128, 3)\n",
            "New image shape:  (128, 128, 3)\n",
            "New mask shape:  (128, 128)\n",
            "New image shape:  (128, 128, 3)\n",
            "New image shape:  (128, 128, 3)\n",
            "New mask shape:  (128, 128)\n"
          ]
        },
        {
          "output_type": "error",
          "ename": "ValueError",
          "evalue": "ignored",
          "traceback": [
            "\u001b[0;31m---------------------------------------------------------------------------\u001b[0m",
            "\u001b[0;31mValueError\u001b[0m                                Traceback (most recent call last)",
            "\u001b[0;32m<ipython-input-51-85f2bcbbe41b>\u001b[0m in \u001b[0;36m<cell line: 1>\u001b[0;34m()\u001b[0m\n\u001b[0;32m----> 1\u001b[0;31m \u001b[0mmodel_unet\u001b[0m\u001b[0;34m.\u001b[0m\u001b[0mfit\u001b[0m\u001b[0;34m(\u001b[0m\u001b[0mgen\u001b[0m\u001b[0;34m,\u001b[0m \u001b[0msteps_per_epoch\u001b[0m\u001b[0;34m=\u001b[0m\u001b[0;36m70\u001b[0m\u001b[0;34m,\u001b[0m \u001b[0mepochs\u001b[0m \u001b[0;34m=\u001b[0m \u001b[0;36m5\u001b[0m\u001b[0;34m)\u001b[0m\u001b[0;34m\u001b[0m\u001b[0;34m\u001b[0m\u001b[0m\n\u001b[0m",
            "\u001b[0;32m/usr/local/lib/python3.10/dist-packages/keras/src/utils/traceback_utils.py\u001b[0m in \u001b[0;36merror_handler\u001b[0;34m(*args, **kwargs)\u001b[0m\n\u001b[1;32m     68\u001b[0m             \u001b[0;31m# To get the full stack trace, call:\u001b[0m\u001b[0;34m\u001b[0m\u001b[0;34m\u001b[0m\u001b[0m\n\u001b[1;32m     69\u001b[0m             \u001b[0;31m# `tf.debugging.disable_traceback_filtering()`\u001b[0m\u001b[0;34m\u001b[0m\u001b[0;34m\u001b[0m\u001b[0m\n\u001b[0;32m---> 70\u001b[0;31m             \u001b[0;32mraise\u001b[0m \u001b[0me\u001b[0m\u001b[0;34m.\u001b[0m\u001b[0mwith_traceback\u001b[0m\u001b[0;34m(\u001b[0m\u001b[0mfiltered_tb\u001b[0m\u001b[0;34m)\u001b[0m \u001b[0;32mfrom\u001b[0m \u001b[0;32mNone\u001b[0m\u001b[0;34m\u001b[0m\u001b[0;34m\u001b[0m\u001b[0m\n\u001b[0m\u001b[1;32m     71\u001b[0m         \u001b[0;32mfinally\u001b[0m\u001b[0;34m:\u001b[0m\u001b[0;34m\u001b[0m\u001b[0;34m\u001b[0m\u001b[0m\n\u001b[1;32m     72\u001b[0m             \u001b[0;32mdel\u001b[0m \u001b[0mfiltered_tb\u001b[0m\u001b[0;34m\u001b[0m\u001b[0;34m\u001b[0m\u001b[0m\n",
            "\u001b[0;32m/usr/local/lib/python3.10/dist-packages/keras/src/backend.py\u001b[0m in \u001b[0;36mcategorical_crossentropy\u001b[0;34m(target, output, from_logits, axis)\u001b[0m\n\u001b[1;32m   5558\u001b[0m     \u001b[0mtarget\u001b[0m \u001b[0;34m=\u001b[0m \u001b[0mtf\u001b[0m\u001b[0;34m.\u001b[0m\u001b[0mconvert_to_tensor\u001b[0m\u001b[0;34m(\u001b[0m\u001b[0mtarget\u001b[0m\u001b[0;34m)\u001b[0m\u001b[0;34m\u001b[0m\u001b[0;34m\u001b[0m\u001b[0m\n\u001b[1;32m   5559\u001b[0m     \u001b[0moutput\u001b[0m \u001b[0;34m=\u001b[0m \u001b[0mtf\u001b[0m\u001b[0;34m.\u001b[0m\u001b[0mconvert_to_tensor\u001b[0m\u001b[0;34m(\u001b[0m\u001b[0moutput\u001b[0m\u001b[0;34m)\u001b[0m\u001b[0;34m\u001b[0m\u001b[0;34m\u001b[0m\u001b[0m\n\u001b[0;32m-> 5560\u001b[0;31m     \u001b[0mtarget\u001b[0m\u001b[0;34m.\u001b[0m\u001b[0mshape\u001b[0m\u001b[0;34m.\u001b[0m\u001b[0massert_is_compatible_with\u001b[0m\u001b[0;34m(\u001b[0m\u001b[0moutput\u001b[0m\u001b[0;34m.\u001b[0m\u001b[0mshape\u001b[0m\u001b[0;34m)\u001b[0m\u001b[0;34m\u001b[0m\u001b[0;34m\u001b[0m\u001b[0m\n\u001b[0m\u001b[1;32m   5561\u001b[0m \u001b[0;34m\u001b[0m\u001b[0m\n\u001b[1;32m   5562\u001b[0m     output, from_logits = _get_logits(\n",
            "\u001b[0;31mValueError\u001b[0m: Shapes (15, 128, 128) and (15, 126, 126) are incompatible"
          ]
        }
      ]
    },
    {
      "cell_type": "code",
      "execution_count": null,
      "metadata": {
        "id": "psqRA3V59JA6"
      },
      "outputs": [],
      "source": [
        "im = Image.open(os.path.join(dataset_dir, png_files[30]))\n",
        "\n",
        "plt.imshow(im)\n",
        "plt.show()"
      ]
    },
    {
      "cell_type": "code",
      "execution_count": null,
      "metadata": {
        "id": "bkeBk1BY7tsA"
      },
      "outputs": [],
      "source": [
        "im = Image.open(os.path.join(dataset_dir, png_files[40]))\n",
        "\n",
        "plt.imshow(im)\n",
        "plt.show()"
      ]
    },
    {
      "cell_type": "code",
      "execution_count": null,
      "metadata": {
        "id": "E5PdqWjfQ941"
      },
      "outputs": [],
      "source": [
        "# Load the mask using the pandas read xml library\n",
        "df_1 = pdx.read_xml(os.path.join(dataset_dir, xml_files[40]))\n",
        "df_1 = df_1.pipe(flatten)\n",
        "\n",
        "df_1"
      ]
    },
    {
      "cell_type": "code",
      "execution_count": null,
      "metadata": {
        "id": "d97uAmRIT-sW"
      },
      "outputs": [],
      "source": [
        "df_1 = np.array(df_1)\n",
        "\n",
        "df_1"
      ]
    },
    {
      "cell_type": "code",
      "execution_count": null,
      "metadata": {
        "id": "ABdLYlr36ycR"
      },
      "outputs": [],
      "source": [
        "\n",
        "###############################\n",
        "# Define the function to load and preprocess the dataset\n",
        "\n",
        "\n",
        "def load_dataset():\n",
        "  file_names = os.listdir(dataset_dir)\n",
        "  num_samples = len(file_names)\n",
        "  images = []\n",
        "  masks = []\n",
        "\n",
        "  # Empty lists to hold png and xml files\n",
        "  png_files = []\n",
        "  xml_files = []\n",
        "  files = file_names\n",
        "\n",
        "  # Loop through the list of files\n",
        "  for file in files:\n",
        "    # Check if the file ends with '.png'\n",
        "    if file.endswith('.png'):\n",
        "      png_files.append(file)\n",
        "    # Check if the file ends with '.xml'\n",
        "    elif file.endswith('.xml'):\n",
        "      xml_files.append(file)\n",
        "\n",
        "  # Sort the png and xml files list\n",
        "  png_files.sort()\n",
        "  xml_files.sort()\n",
        "\n",
        "  #print(\"PNG Files:\", len(png_files))\n",
        "  #print(\"XML Files:\", len(xml_files))\n",
        "\n",
        "  # Define the number of dead and living cells\n",
        "  living_cell = 0\n",
        "  dead_cell = 0\n",
        "\n",
        "  # Normalize the bounding box coordinates\n",
        "  normalized_bounding_boxes = []\n",
        "\n",
        "  ##############################\n",
        "  for i in range(len(png_files)):\n",
        "    file_path_img = os.path.join(dataset_dir, png_files[i])\n",
        "    file_path_mask = os.path.join(dataset_dir, xml_files[i])\n",
        "\n",
        "    # Load the image and mask using PIL or any other library suitable for your dataset\n",
        "    # Preprocess the image and mask as needed (e.g., resizing, normalization)\n",
        "\n",
        "\n",
        "    # Convert the image to a NumPy array\n",
        "    image = cv2.imread(file_path_img)\n",
        "    image = Image.fromarray(image)\n",
        "    image = image.resize((128, 128))\n",
        "    # Preprocess the image (resize, normalize) as needed\n",
        "    # image = cv2.resize(image, (128, 128))\n",
        "    image = np.array(image)\n",
        "    image = image / 255.0  # Normalize to [0, 1] if necessary\n",
        "\n",
        "    # Load the mask using the pandas read xml library\n",
        "    # Load the XML mask file\n",
        "    tree = ET.parse(file_path_mask)\n",
        "    root = tree.getroot()\n",
        "    #root = pdx.read_xml(os.path.join(dataset_dir, file_path_mask))\n",
        "    #root = root.pipe(flatten)\n",
        "\n",
        "    # Create an empty mask with the same shape as the image\n",
        "    mask = np.zeros_like(image[:, :, 0], dtype=np.uint8)\n",
        "\n",
        "\n",
        "    # Iterate through XML elements to extract bounding box coordinates\n",
        "    for obj in root.findall('.//object'):\n",
        "      class_name = obj.find('name').text\n",
        "      if class_name == 'Living Cell':\n",
        "        xmin = int(obj.find('bndbox/xmin').text)\n",
        "        ymin = int(obj.find('bndbox/ymin').text)\n",
        "        xmax = int(obj.find('bndbox/xmax').text)\n",
        "        ymax = int(obj.find('bndbox/ymax').text)\n",
        "\n",
        "        # Set the region defined by the bounding box to 1 in the mask\n",
        "        mask[ymin:ymax, xmin:xmax] = 1\n",
        "\n",
        "        # Increment the living cell\n",
        "        living_cell += 1\n",
        "      elif class_name == 'Dead Cell':\n",
        "        xmin = int(obj.find('bndbox/xmin').text)\n",
        "        ymin = int(obj.find('bndbox/ymin').text)\n",
        "        xmax = int(obj.find('bndbox/xmax').text)\n",
        "        ymax = int(obj.find('bndbox/ymax').text)\n",
        "\n",
        "        # Set the region defined by the bounding box to 1 in the mask\n",
        "        mask[ymin:ymax, xmin:xmax] = 2\n",
        "\n",
        "        # Increment the dead cell\n",
        "        dead_cell += 1\n",
        "\n",
        "\n",
        "\n",
        "\n",
        "    images.append(image)\n",
        "    masks.append(mask)\n",
        "\n",
        "  return np.array(images), np.array(masks)\n",
        "\n"
      ]
    },
    {
      "cell_type": "code",
      "execution_count": null,
      "metadata": {
        "colab": {
          "base_uri": "https://localhost:8080/"
        },
        "id": "g4OyqlHA8Lwf",
        "outputId": "834b6307-eaed-43bd-cab3-ca8828ff21fa"
      },
      "outputs": [
        {
          "output_type": "stream",
          "name": "stdout",
          "text": [
            "Images shape: (1756, 128, 128, 3)\n",
            "Masks shape: (1756, 128, 128)\n"
          ]
        }
      ],
      "source": [
        "# Load the dataset\n",
        "images, masks = load_dataset()\n",
        "\n",
        "# Print the shape of the loaded dataset to verify correctness\n",
        "print(\"Images shape:\", images.shape)\n",
        "print(\"Masks shape:\", masks.shape)"
      ]
    },
    {
      "cell_type": "markdown",
      "metadata": {
        "id": "KXagDZbGS9Ax"
      },
      "source": [
        "## Build the Model"
      ]
    },
    {
      "cell_type": "code",
      "execution_count": null,
      "metadata": {
        "id": "t82dBdrhTqIi"
      },
      "outputs": [],
      "source": [
        "####################\n",
        "from tensorflow.keras.models import Model\n",
        "from tensorflow.keras.layers import Input, Conv2D, MaxPooling2D, Dropout, UpSampling2D, Concatenate\n",
        "\n",
        "\n",
        "def unet_model(input_shape):\n",
        "    # Input layer\n",
        "    inputs = Input(input_shape)\n",
        "\n",
        "    # Downward path\n",
        "    conv1 = Conv2D(64, 3, activation='relu', padding='same')(inputs)\n",
        "    conv1 = Conv2D(64, 3, activation='relu', padding='same')(conv1)\n",
        "    pool1 = MaxPooling2D(pool_size=(2, 2))(conv1)\n",
        "\n",
        "    conv2 = Conv2D(128, 3, activation='relu', padding='same')(pool1)\n",
        "    conv2 = Conv2D(128, 3, activation='relu', padding='same')(conv2)\n",
        "    pool2 = MaxPooling2D(pool_size=(2, 2))(conv2)\n",
        "\n",
        "    # Bottom layer\n",
        "    conv3 = Conv2D(256, 3, activation='relu', padding='same')(pool2)\n",
        "    conv3 = Conv2D(256, 3, activation='relu', padding='same')(conv3)\n",
        "\n",
        "    # Upward path\n",
        "    up4 = Conv2D(128, 2, activation='relu', padding='same')(UpSampling2D(size=(2, 2))(conv3))\n",
        "    merge4 = Concatenate()([conv2, up4])\n",
        "    conv4 = Conv2D(128, 3, activation='relu', padding='same')(merge4)\n",
        "    conv4 = Conv2D(128, 3, activation='relu', padding='same')(conv4)\n",
        "\n",
        "    up5 = Conv2D(64, 2, activation='relu', padding='same')(UpSampling2D(size=(2, 2))(conv4))\n",
        "    merge5 = Concatenate()([conv1, up5])\n",
        "    conv5 = Conv2D(64, 3, activation='relu', padding='same')(merge5)\n",
        "    conv5 = Conv2D(64, 3, activation='relu', padding='same')(conv5)\n",
        "\n",
        "    # Output layer\n",
        "    output = Conv2D(1, 1, activation='sigmoid')(conv5)\n",
        "\n",
        "    model = Model(inputs=inputs, outputs=output)\n",
        "    return model\n",
        "\n",
        "\n"
      ]
    },
    {
      "cell_type": "code",
      "execution_count": null,
      "metadata": {
        "id": "Mv4tyUzyAc_o"
      },
      "outputs": [],
      "source": [
        "# Create the model\n",
        "#input_shape = (128, 128, 3)  # Adjust the input shape according to your images\n",
        "input_shape = images[0].shape\n",
        "model = unet_model(input_shape)"
      ]
    },
    {
      "cell_type": "markdown",
      "metadata": {
        "id": "-_EEiceeVa-a"
      },
      "source": [
        "This implementation follows the U-Net architecture with skip connections."
      ]
    },
    {
      "cell_type": "markdown",
      "metadata": {
        "id": "XcwfCuXKVfUh"
      },
      "source": [
        "## Model Training\n",
        "\n",
        "Now, we'll train the U-Net model using the prepared training dataset."
      ]
    },
    {
      "cell_type": "code",
      "execution_count": null,
      "metadata": {
        "id": "SeiG-bDdekL4"
      },
      "outputs": [],
      "source": [
        "# Split the dataset into training and testing sets\n",
        "X_train, X_test, y_train, y_test = train_test_split(images, masks, test_size=0.3, random_state=42)\n",
        "\n",
        "# Normalize pixel values between 0 and 1\n",
        "X_train = X_train / 255.0\n",
        "X_test = X_test / 255.0\n",
        "y_train = y_train / 255.0\n",
        "y_test = y_test / 255.0"
      ]
    },
    {
      "cell_type": "code",
      "execution_count": null,
      "metadata": {
        "colab": {
          "base_uri": "https://localhost:8080/"
        },
        "id": "11xdY5cdNrTw",
        "outputId": "79449ce7-1f5c-41ef-d3b1-269292512b15"
      },
      "outputs": [
        {
          "output_type": "execute_result",
          "data": {
            "text/plain": [
              "(1229, 128, 128)"
            ]
          },
          "metadata": {},
          "execution_count": 20
        }
      ],
      "source": [
        "y_train.shape"
      ]
    },
    {
      "cell_type": "code",
      "execution_count": null,
      "metadata": {
        "id": "WYu-VCVAuA_3"
      },
      "outputs": [],
      "source": [
        "# Compile the model\n",
        "#model.compile(optimizer='adam', loss=combined_loss(y_train, y_test), metrics=['accuracy', , MeanIoU(num_classes=2, name='IoU')])\n",
        "\n",
        "model.compile(optimizer=Adam(), loss='binary_crossentropy', \\\n",
        "              metrics=['accuracy', MeanIoU(num_classes=2, name='IoU')])"
      ]
    },
    {
      "cell_type": "code",
      "source": [
        "model.summary()"
      ],
      "metadata": {
        "colab": {
          "base_uri": "https://localhost:8080/"
        },
        "id": "9er3DKUcgSEB",
        "outputId": "65b10fec-1a2b-4bfb-8e8c-4f25b401ce02"
      },
      "execution_count": null,
      "outputs": [
        {
          "output_type": "stream",
          "name": "stdout",
          "text": [
            "Model: \"model\"\n",
            "__________________________________________________________________________________________________\n",
            " Layer (type)                Output Shape                 Param #   Connected to                  \n",
            "==================================================================================================\n",
            " input_1 (InputLayer)        [(None, 128, 128, 3)]        0         []                            \n",
            "                                                                                                  \n",
            " conv2d (Conv2D)             (None, 128, 128, 64)         1792      ['input_1[0][0]']             \n",
            "                                                                                                  \n",
            " conv2d_1 (Conv2D)           (None, 128, 128, 64)         36928     ['conv2d[0][0]']              \n",
            "                                                                                                  \n",
            " max_pooling2d (MaxPooling2  (None, 64, 64, 64)           0         ['conv2d_1[0][0]']            \n",
            " D)                                                                                               \n",
            "                                                                                                  \n",
            " conv2d_2 (Conv2D)           (None, 64, 64, 128)          73856     ['max_pooling2d[0][0]']       \n",
            "                                                                                                  \n",
            " conv2d_3 (Conv2D)           (None, 64, 64, 128)          147584    ['conv2d_2[0][0]']            \n",
            "                                                                                                  \n",
            " max_pooling2d_1 (MaxPoolin  (None, 32, 32, 128)          0         ['conv2d_3[0][0]']            \n",
            " g2D)                                                                                             \n",
            "                                                                                                  \n",
            " conv2d_4 (Conv2D)           (None, 32, 32, 256)          295168    ['max_pooling2d_1[0][0]']     \n",
            "                                                                                                  \n",
            " conv2d_5 (Conv2D)           (None, 32, 32, 256)          590080    ['conv2d_4[0][0]']            \n",
            "                                                                                                  \n",
            " up_sampling2d (UpSampling2  (None, 64, 64, 256)          0         ['conv2d_5[0][0]']            \n",
            " D)                                                                                               \n",
            "                                                                                                  \n",
            " conv2d_6 (Conv2D)           (None, 64, 64, 128)          131200    ['up_sampling2d[0][0]']       \n",
            "                                                                                                  \n",
            " concatenate (Concatenate)   (None, 64, 64, 256)          0         ['conv2d_3[0][0]',            \n",
            "                                                                     'conv2d_6[0][0]']            \n",
            "                                                                                                  \n",
            " conv2d_7 (Conv2D)           (None, 64, 64, 128)          295040    ['concatenate[0][0]']         \n",
            "                                                                                                  \n",
            " conv2d_8 (Conv2D)           (None, 64, 64, 128)          147584    ['conv2d_7[0][0]']            \n",
            "                                                                                                  \n",
            " up_sampling2d_1 (UpSamplin  (None, 128, 128, 128)        0         ['conv2d_8[0][0]']            \n",
            " g2D)                                                                                             \n",
            "                                                                                                  \n",
            " conv2d_9 (Conv2D)           (None, 128, 128, 64)         32832     ['up_sampling2d_1[0][0]']     \n",
            "                                                                                                  \n",
            " concatenate_1 (Concatenate  (None, 128, 128, 128)        0         ['conv2d_1[0][0]',            \n",
            " )                                                                   'conv2d_9[0][0]']            \n",
            "                                                                                                  \n",
            " conv2d_10 (Conv2D)          (None, 128, 128, 64)         73792     ['concatenate_1[0][0]']       \n",
            "                                                                                                  \n",
            " conv2d_11 (Conv2D)          (None, 128, 128, 64)         36928     ['conv2d_10[0][0]']           \n",
            "                                                                                                  \n",
            " conv2d_12 (Conv2D)          (None, 128, 128, 1)          65        ['conv2d_11[0][0]']           \n",
            "                                                                                                  \n",
            "==================================================================================================\n",
            "Total params: 1862849 (7.11 MB)\n",
            "Trainable params: 1862849 (7.11 MB)\n",
            "Non-trainable params: 0 (0.00 Byte)\n",
            "__________________________________________________________________________________________________\n"
          ]
        }
      ]
    },
    {
      "cell_type": "code",
      "execution_count": null,
      "metadata": {
        "colab": {
          "base_uri": "https://localhost:8080/"
        },
        "id": "4JL4uGfTYMOa",
        "outputId": "3db8b21f-d7fa-4794-9299-64e9089516ce"
      },
      "outputs": [
        {
          "output_type": "stream",
          "name": "stdout",
          "text": [
            "Epoch 1/15\n",
            "81/81 [==============================] - 948s 12s/step - loss: 0.0427 - accuracy: 0.9554 - IoU: 1.0000 - val_loss: 0.0025 - val_accuracy: 0.9657 - val_IoU: 1.0000\n",
            "Epoch 2/15\n",
            "81/81 [==============================] - 938s 12s/step - loss: 0.0024 - accuracy: 0.9679 - IoU: 1.0000 - val_loss: 0.0025 - val_accuracy: 0.9657 - val_IoU: 1.0000\n",
            "Epoch 3/15\n",
            "81/81 [==============================] - 936s 12s/step - loss: 0.0024 - accuracy: 0.9676 - IoU: 1.0000 - val_loss: 0.0025 - val_accuracy: 0.9657 - val_IoU: 1.0000\n",
            "Epoch 4/15\n",
            "56/81 [===================>..........] - ETA: 4:04 - loss: 0.0025 - accuracy: 0.9672 - IoU: 1.0000"
          ]
        }
      ],
      "source": [
        "# Config Training\n",
        "BATCH_SIZE = 15\n",
        "SPE = len(X_train) // BATCH_SIZE\n",
        "\n",
        "# Training\n",
        "results = model.fit(\n",
        "    X_train, y_train,\n",
        "    validation_split=0.5,\n",
        "    epochs=15,\n",
        "    steps_per_epoch=SPE,\n",
        "    batch_size=BATCH_SIZE\n",
        "\n",
        ")\n"
      ]
    },
    {
      "cell_type": "code",
      "execution_count": null,
      "metadata": {
        "id": "Xrx315Di7Hq7"
      },
      "outputs": [],
      "source": [
        "# Training\n",
        "results = model.fit(\n",
        "    gen,\n",
        "    validation_split=0.5,\n",
        "    epochs=15,\n",
        "    steps_per_epoch=SPE,\n",
        "    batch_size=BATCH_SIZE\n",
        "\n",
        ")"
      ]
    },
    {
      "cell_type": "code",
      "execution_count": null,
      "metadata": {
        "id": "8Of1x0_kYaUw"
      },
      "outputs": [],
      "source": [
        "# Save the trained model\n",
        "model.save('/content/drive/MyDrive/allfilesproject2023/cell_segmentation_model_.h5')\n"
      ]
    },
    {
      "cell_type": "code",
      "execution_count": null,
      "metadata": {
        "id": "2RzV_t6TtVxh"
      },
      "outputs": [],
      "source": [
        "# Save the trained model\n",
        "model.save('/content/drive/MyDrive/allfilesproject2023/Cell_Segmentation_Model.h5')\n",
        "\n"
      ]
    },
    {
      "cell_type": "markdown",
      "metadata": {
        "id": "F0sjNZcpVw-t"
      },
      "source": [
        "## Model Evaluation\n",
        "\n",
        "Finally, we'll evaluate the trained model using the testing dataset."
      ]
    },
    {
      "cell_type": "code",
      "execution_count": null,
      "metadata": {
        "id": "ge5KgLX1V2Z5"
      },
      "outputs": [],
      "source": [
        "# Step 4: Model Evaluation\n",
        "from tensorflow.keras.models import load_model\n",
        "\n",
        "# Load the saved model\n",
        "model = load_model('/content/drive/MyDrive/allfilesproject2023/cell_segmentation_model_.h5')\n",
        "\n",
        "model_1 = load_model('/content/drive/MyDrive/allfilesproject2023/Cell_Segmentation_Model.h5')\n",
        "\n",
        "\n"
      ]
    },
    {
      "cell_type": "code",
      "execution_count": null,
      "metadata": {
        "id": "NIeNKMN37Qay"
      },
      "outputs": [],
      "source": [
        "# Evaluate the model\n",
        "loss, accuracy, result = model.evaluate(X_test, y_test)\n",
        "\n",
        "# Perform segmentation on test images\n",
        "predicted_masks_ = model.predict(X_test)\n"
      ]
    },
    {
      "cell_type": "code",
      "execution_count": null,
      "metadata": {
        "id": "GWTks8tPseMK"
      },
      "outputs": [],
      "source": [
        "  # Evaluate the model\n",
        "loss_1, accuracy_1, results = model_1.evaluate(X_test, y_test)\n",
        "\n",
        "# Perform segmentation on test images\n",
        "predicted_masks = model.predict(X_test)\n"
      ]
    },
    {
      "cell_type": "markdown",
      "metadata": {
        "id": "FfOGCohgV6xb"
      },
      "source": [
        "Basic implementation of an improved cell segmentation program using U-Net in deep learning.\n",
        "\n",
        "Experiment it with different model architectures, loss functions, and hyperparameters to further improve the segmentation accuracy."
      ]
    },
    {
      "cell_type": "code",
      "execution_count": null,
      "metadata": {
        "id": "x4045ywN-ZUe"
      },
      "outputs": [],
      "source": [
        "import matplotlib.pyplot as plt\n",
        "\n",
        "# Visualize the segmentation results and compare with ground truth labels\n",
        "def visualize_segmentation_results(images, masks, predicted_masks):\n",
        "    num_images = len(images)\n",
        "    fig, axes = plt.subplots(num_images, 3, figsize=(10, 10))\n",
        "\n",
        "    for i in range(num_images):\n",
        "        axes[i, 0].imshow(images[i])\n",
        "        axes[i, 0].set_title('Image')\n",
        "        axes[i, 0].axis('off')\n",
        "\n",
        "        axes[i, 1].imshow(masks[i], cmap='gray')\n",
        "        axes[i, 1].set_title('Ground Truth')\n",
        "        axes[i, 1].axis('off')\n",
        "\n",
        "        axes[i, 2].imshow(predicted_masks[i], cmap='gray')\n",
        "        axes[i, 2].set_title('Predicted')\n",
        "        axes[i, 2].axis('off')\n",
        "\n",
        "    plt.tight_layout()\n",
        "    plt.show()\n",
        "\n",
        "# Assuming you have loaded the test images (X_test), ground truth masks (y_test), and predicted masks (predicted_masks)\n",
        "\n",
        "\n"
      ]
    },
    {
      "cell_type": "code",
      "execution_count": null,
      "metadata": {
        "id": "-PAlv2b7_ARI"
      },
      "outputs": [],
      "source": [
        "# Select a few random samples for visualization\n",
        "num_samples = 4\n",
        "indices = np.random.choice(len(X_test), num_samples, replace=False)\n",
        "\n",
        "sample_images = X_test[indices]\n",
        "sample_masks = y_test[indices]\n",
        "sample_predicted_masks = predicted_masks[indices]\n",
        "\n",
        "# Visualize the segmentation results\n",
        "visualize_segmentation_results(sample_images, sample_masks, sample_predicted_masks)"
      ]
    },
    {
      "cell_type": "code",
      "execution_count": null,
      "metadata": {
        "id": "vhPLLkXGRP8M"
      },
      "outputs": [],
      "source": [
        "loss, accuracy, iou, val_loss, val_accuracy, val_iou = results.history.values()"
      ]
    },
    {
      "cell_type": "code",
      "execution_count": null,
      "metadata": {
        "id": "AHBhJR_2jZdE"
      },
      "outputs": [],
      "source": [
        "plt.figure(figsize=(20,8))\n",
        "\n",
        "plt.subplot(1,3,1)\n",
        "plt.title(\"Model Loss\")\n",
        "plt.plot(loss, label=\"Training\")\n",
        "plt.plot(val_loss, label=\"Validtion\")\n",
        "plt.legend()\n",
        "plt.grid()\n",
        "\n",
        "plt.subplot(1,3,2)\n",
        "plt.title(\"Model Accuracy\")\n",
        "plt.plot(accuracy, label=\"Training\")\n",
        "plt.plot(val_accuracy, label=\"Validtion\")\n",
        "plt.legend()\n",
        "plt.grid()\n",
        "\n",
        "plt.subplot(1,3,3)\n",
        "plt.title(\"Model IoU\")\n",
        "plt.plot(iou, label=\"Training\")\n",
        "plt.plot(val_iou, label=\"Validtion\")\n",
        "plt.legend()\n",
        "plt.grid()\n",
        "\n",
        "plt.show()"
      ]
    },
    {
      "cell_type": "code",
      "execution_count": null,
      "metadata": {
        "id": "uc5hvP3Bz9l7"
      },
      "outputs": [],
      "source": [
        "def show_mask(image, mask, cmap=None, alpha=0.4):\n",
        "\n",
        "    plt.imshow(image)\n",
        "    plt.imshow(tf.squeeze(mask), cmap=cmap, alpha=alpha)\n",
        "    plt.axis('off')"
      ]
    },
    {
      "cell_type": "code",
      "execution_count": null,
      "metadata": {
        "id": "b3KNcdubRet4"
      },
      "outputs": [],
      "source": [
        "plt.figure(figsize=(20,25))\n",
        "n=0\n",
        "for i in range(1,(5*3)+1):\n",
        "    plt.subplot(5,3,i)\n",
        "    if n==0:\n",
        "        id = np.random.randint(len(pred_mask))\n",
        "        image = images[id]\n",
        "        mask = masks[id]\n",
        "        pred_mask = predicted_masks[id]\n",
        "\n",
        "        plt.title(\"Original Mask\")\n",
        "        show_mask(image, mask)\n",
        "        n+=1\n",
        "    elif n==1:\n",
        "        plt.title(\"Predicted Mask\")\n",
        "        show_mask(image, pred_mask)\n",
        "        n+=1\n",
        "    elif n==2:\n",
        "        pred_mask = (pred_mask>0.5).astype('float')\n",
        "        plt.title(\"Processed Mask\")\n",
        "        show_mask(image, pred_mask)\n",
        "        n=0\n",
        "plt.tight_layout()\n",
        "plt.show()"
      ]
    },
    {
      "cell_type": "code",
      "execution_count": null,
      "metadata": {
        "id": "79Aq5Ewo0B-G"
      },
      "outputs": [],
      "source": [
        "import numpy as np\n",
        "from sklearn.metrics import confusion_matrix, classification_report\n",
        "\n",
        "# assume y_true is the true binary mask and y_pred is the predicted mask\n",
        "# both have shape (num_samples, height, width, num_channels)\n",
        "#y_true = y_val\n",
        "#y_pred = model.predict(X_val)\n",
        "\n",
        "predicted_masks\n",
        "\n",
        "# threshold the predicted mask to convert to binary values\n",
        "y_true_bool = (y_test > 0.5).astype(bool)\n",
        "cm = confusion_matrix(y_true_bool.flatten(), predicted_masks.flatten())\n",
        "cr = classification_report(y_true_bool.flatten(), predicted_masks.flatten())\n",
        "\n",
        "print(\"Confusion matrix:\")\n",
        "print(cm)\n",
        "print(\"Classification report:\")\n",
        "print(cr)"
      ]
    },
    {
      "cell_type": "markdown",
      "metadata": {
        "id": "Nop8cOwOXpje"
      },
      "source": [
        "***Below is the detailed program for the building the model***"
      ]
    },
    {
      "cell_type": "code",
      "execution_count": null,
      "metadata": {
        "id": "JHws8p5NWUbg"
      },
      "outputs": [],
      "source": [
        "import os\n",
        "import numpy as np\n",
        "from PIL import Image\n",
        "from sklearn.model_selection import train_test_split\n",
        "from tensorflow.keras.models import Model\n",
        "from tensorflow.keras.layers import Input, Conv2D, MaxPooling2D, Dropout, UpSampling2D, Concatenate\n",
        "from tensorflow.keras.optimizers import Adam\n",
        "from tensorflow.keras.metrics import MeanIoU\n",
        "\n",
        "# Step 1: Data Preparation\n",
        "def load_data(data_dir, label_dir):\n",
        "    images = []\n",
        "    labels = []\n",
        "    for filename in os.listdir(data_dir):\n",
        "        if filename.endswith(\".png\"):\n",
        "            image_path = os.path.join(data_dir, filename)\n",
        "            label_path = os.path.join(label_dir, filename)\n",
        "            image = np.array(Image.open(image_path))\n",
        "            label = np.array(Image.open(label_path))\n",
        "            images.append(image)\n",
        "            labels.append(label)\n",
        "    return np.array(images), np.array(labels)\n",
        "\n",
        "data_dir = 'path_to_data_directory'  # Replace with your data directory path\n",
        "label_dir = 'path_to_label_directory'  # Replace with your label directory path\n",
        "\n",
        "X, y = load_data(data_dir, label_dir)\n",
        "\n",
        "# Split the dataset into training and testing sets\n",
        "X_train, X_test, y_train, y_test = train_test_split(X, y, test_size=0.2, random_state=42)\n",
        "\n",
        "# Normalize pixel values between 0 and 1\n",
        "X_train = X_train / 255.0\n",
        "X_test = X_test / 255.0\n",
        "y_train = y_train / 255.0\n",
        "y_test = y_test / 255.0\n",
        "\n",
        "# Step 2: U-Net Model Architecture\n",
        "def unet_model(input_shape):\n",
        "    # Input layer\n",
        "    inputs = Input(input_shape)\n",
        "\n",
        "    # Downward path\n",
        "    conv1 = Conv2D(64, 3, activation='relu', padding='same')(inputs)\n",
        "    conv1 = Conv2D(64, 3, activation='relu', padding='same')(conv1)\n",
        "    pool1 = MaxPooling2D(pool_size=(2, 2))(conv1)\n",
        "\n",
        "    conv2 = Conv2D(128, 3, activation='relu', padding='same')(pool1)\n",
        "    conv2 = Conv2D(128, 3, activation='relu', padding='same')(conv2)\n",
        "    pool2 = MaxPooling2D(pool_size=(2, 2))(conv2)\n",
        "\n",
        "    # Bottom layer\n",
        "    conv3 = Conv2D(256, 3, activation='relu', padding='same')(pool2)\n",
        "    conv3 = Conv2D(256, 3, activation='relu', padding='same')(conv3)\n",
        "\n",
        "    # Upward path\n",
        "    up4 = Conv2D(128, 2, activation='relu', padding='same')(UpSampling2D(size=(2, 2))(conv3))\n",
        "    merge4 = Concatenate()([conv2, up4])\n",
        "    conv4 = Conv2D(128, 3, activation='relu', padding='same')(merge4)\n",
        "    conv4 = Conv2D(128, 3, activation='relu', padding='same')(conv4)\n",
        "\n",
        "    up5 = Conv2D(64, 2, activation='relu', padding='same')(UpSampling2D(size=(2, 2))(conv4))\n",
        "    merge5 = Concatenate()([conv1, up5])\n",
        "    conv5 = Conv2D(64, 3, activation='relu', padding='same')(merge5)\n",
        "    conv5 = Conv2D(64, 3, activation='relu', padding='same')(conv5)\n",
        "\n",
        "    # Output layer\n",
        "    output = Conv2D(1, 1, activation='sigmoid')(conv5)\n",
        "\n",
        "    model = Model(inputs=inputs, outputs=output)\n",
        "    return model\n",
        "\n",
        "input_shape = X_train[0].shape\n",
        "model = unet_model(input_shape)\n",
        "\n",
        "# Step 3: Model Training\n",
        "model.compile(optimizer=Adam(), loss='binary_crossentropy', metrics=[MeanIoU(num_classes=2)])\n",
        "\n",
        "model.fit(X_train, y_train, batch_size=16, epochs=10)\n",
        "\n",
        "model.save('cell_segmentation_model.h5')\n",
        "\n",
        "# Step 4: Model Evaluation\n",
        "from tensorflow.keras.models import load_model\n",
        "\n",
        "# Load the saved model\n",
        "model = load_model('cell_segmentation_model.h5')\n",
        "\n",
        "# Evaluate the model\n",
        "loss, mean_iou = model.evaluate(X_test, y_test)\n",
        "\n",
        "# Perform segmentation on test images\n",
        "predicted_masks = model.predict(X_test)\n",
        "\n",
        "# Visualize the segmentation results and compare with ground truth labels\n",
        "# You can use matplotlib or other libraries for visualization\n",
        "\n",
        "\n"
      ]
    },
    {
      "cell_type": "markdown",
      "metadata": {
        "id": "BU8H_zXGX3Pc"
      },
      "source": [
        "*To integrate your dataset:*\n",
        "\n",
        "1. Place your cell images in a directory and update data_dir variable with the path to that directory.\n",
        "\n",
        "2. Place your corresponding labeled masks in a separate directory and update label_dir variable with the path to that directory.\n",
        "3. Make sure the filenames of the cell images and labeled masks are the same, so they can be matched correctly in the load_data function.\n",
        "4. Remember to adjust the input shape and hyperparameters according to your specific dataset and requirements."
      ]
    },
    {
      "cell_type": "code",
      "execution_count": null,
      "metadata": {
        "id": "AhP_r2UXYUmj"
      },
      "outputs": [],
      "source": [
        "import matplotlib.pyplot as plt\n",
        "\n",
        "# Visualize the segmentation results and compare with ground truth labels\n",
        "def visualize_segmentation_results(images, masks, predicted_masks):\n",
        "    num_images = len(images)\n",
        "    fig, axes = plt.subplots(num_images, 3, figsize=(10, 10))\n",
        "\n",
        "    for i in range(num_images):\n",
        "        axes[i, 0].imshow(images[i])\n",
        "        axes[i, 0].set_title('Image')\n",
        "        axes[i, 0].axis('off')\n",
        "\n",
        "        axes[i, 1].imshow(masks[i], cmap='gray')\n",
        "        axes[i, 1].set_title('Ground Truth')\n",
        "        axes[i, 1].axis('off')\n",
        "\n",
        "        axes[i, 2].imshow(predicted_masks[i], cmap='gray')\n",
        "        axes[i, 2].set_title('Predicted')\n",
        "        axes[i, 2].axis('off')\n",
        "\n",
        "    plt.tight_layout()\n",
        "    plt.show()\n",
        "\n",
        "# Assuming you have loaded the test images (X_test), ground truth masks (y_test), and predicted masks (predicted_masks)\n",
        "\n",
        "# Select a few random samples for visualization\n",
        "num_samples = 5\n",
        "indices = np.random.choice(len(X_test), num_samples, replace=False)\n",
        "\n",
        "sample_images = X_test[indices]\n",
        "sample_masks = y_test[indices]\n",
        "sample_predicted_masks = predicted_masks[indices]\n",
        "\n",
        "# Visualize the segmentation results\n",
        "visualize_segmentation_results(sample_images, sample_masks, sample_predicted_masks)\n"
      ]
    },
    {
      "cell_type": "markdown",
      "metadata": {
        "id": "taKQt56cZiNm"
      },
      "source": [
        "*In the code above, a function called visualize_segmentation_results was created*\n",
        "\n",
        " It takes the test images, ground truth masks, and predicted masks as input. It then uses matplotlib to plot a grid of three images side by side for each sample: the original image, the ground truth mask, and the predicted mask. We use a random sample of images from the test set for visualization.\n",
        "\n",
        "You may need to modify the code according to your specific variable names and dataset structure. Additionally, you can customize the visualization as per your requirements, such as adjusting the figure size, adding color maps, or modifying the layout.\n",
        "\n",
        "Make sure to have the matplotlib library installed before running the code. You can install it using pip install matplotlib."
      ]
    },
    {
      "cell_type": "markdown",
      "metadata": {
        "id": "vs5SOq3IFsXb"
      },
      "source": [
        "# New"
      ]
    },
    {
      "cell_type": "code",
      "execution_count": null,
      "metadata": {
        "id": "uhpRSGHX71PN"
      },
      "outputs": [],
      "source": []
    },
    {
      "cell_type": "code",
      "execution_count": null,
      "metadata": {
        "id": "04qhKy0H75ym"
      },
      "outputs": [],
      "source": [
        "setup_gpu()"
      ]
    },
    {
      "cell_type": "code",
      "execution_count": null,
      "metadata": {
        "id": "cRLE9MzIMlsb"
      },
      "outputs": [],
      "source": [
        "dataset_dir\n",
        "import tensorflow.compat.v2 as tf\n",
        "#tf.disable_v2_behavior()\n",
        "print(tf.version)"
      ]
    },
    {
      "cell_type": "code",
      "execution_count": null,
      "metadata": {
        "id": "3Jcwteq28F5k"
      },
      "outputs": [],
      "source": [
        "import tensorflow as tf\n",
        "binary_crossentropy = tf.keras.losses.BinaryCrossentropy()\n",
        "categorical_crossentropy = tf.keras.losses.CategoricalCrossentropy()\n",
        "\n",
        "def smooth_l1_loss(y_train, y_test):\n",
        "    abs_diff = tf.abs(y_train - y_test)\n",
        "    smooth_l1_loss = tf.where(abs_diff < 1, 0.5 * tf.square(abs_diff), abs_diff - 0.5)\n",
        "    return tf.reduce_sum(smooth_l1_loss, axis=-1)\n",
        "\n",
        "def combined_loss(y_train, y_test):\n",
        "    # Extract the ground truth bounding box coordinates and class labels\n",
        "    y_train_bbox = y_train[..., :4]\n",
        "    y_train_class = y_train[..., 4:]\n",
        "\n",
        "    # Extract the predicted bounding box coordinates and class probabilities\n",
        "    y_test_bbox = y_test[..., :4]\n",
        "    y_test_class = y_test[..., 4:]\n",
        "\n",
        "    # Compute the bounding box regression loss\n",
        "    bbox_loss = smooth_l1_loss(y_train_bbox, y_test_bbox)\n",
        "\n",
        "    # Compute the classification loss\n",
        "    class_loss = binary_crossentropy(y_train_class, y_test_class)\n",
        "\n",
        "    # Combine the two losses into a single loss value\n",
        "    return bbox_loss + class_loss\n"
      ]
    },
    {
      "cell_type": "code",
      "execution_count": null,
      "metadata": {
        "id": "3Vl3j3OD8Nzi"
      },
      "outputs": [],
      "source": [
        "import tensorflow as tf\n",
        "from tensorflow.keras.layers import MaxPooling2D\n",
        "\n",
        "@tf.function\n",
        "def conv2d_block(input_tensor, n_filters):\n",
        "    model = tf.keras.Sequential()\n",
        "    \"\"\"Function to add 2 convolutional layers with the parameters passed to it\"\"\"\n",
        "    # first layer\n",
        "    model.add(tf.keras.layers.Conv2D(filters = n_filters, kernel_size = (3, 3),\\\n",
        "                                     activation='relu', input_shape=input_tensor.shape[1:]))\n",
        "\n",
        "    # second layer\n",
        "    model.add(tf.keras.layers.Conv2D(filters = n_filters, kernel_size = (3, 3), activation='relu'))\n",
        "    model.add(MaxPooling2D((2, 2)))\n",
        "    x = MaxPooling2D((2, 2))(model.output)\n",
        "    return x\n",
        "\n",
        "\n",
        "\n",
        "@tf.function\n",
        "def get_unet(input_img, n_filters = 16, dropout = 0.1, batchnorm = True):\n",
        "    # Convert input_img to a tensor\n",
        "    input_tensor = tf.convert_to_tensor(input_img)\n",
        "\n",
        "    # Pass input_tensor to conv2d_block function\n",
        "    # Contracting Path\n",
        "    c1 = conv2d_block(input_tensor, n_filters * 1)\n",
        "    p1 = MaxPooling2D((2, 2))(c1)\n",
        "    p1 = Dropout(dropout)(p1)\n",
        "\n",
        "    c2 = conv2d_block(p1, n_filters * 2)\n",
        "    p2 = MaxPooling2D((2, 2))(c2)\n",
        "    p2 = Dropout(dropout)(p2)\n",
        "\n",
        "    c3 = conv2d_block(p2, n_filters * 4)\n",
        "    p3 = MaxPooling2D((2, 2))(c3)\n",
        "    p3 = Dropout(dropout)(p3)\n",
        "\n",
        "    c4 = conv2d_block(p3, n_filters * 8)\n",
        "    p4 = MaxPooling2D((2, 2))(c4)\n",
        "    p4 = Dropout(dropout)(p4)\n",
        "\n",
        "    c5 = conv2d_block(p4, n_filters = n_filters * 16)\n",
        "\n",
        "    # Expansive Path\n",
        "    u6 = Conv2DTranspose(n_filters * 8, (3, 3), strides = (2, 2), padding = 'same')(c5)\n",
        "    u6 = concatenate([u6, c4])\n",
        "    u6 = Dropout(dropout)(u6)\n",
        "    c6 = conv2d_block(u6, n_filters * 8)\n",
        "\n",
        "    u7 = Conv2DTranspose(n_filters * 4, (3, 3), strides = (2, 2), padding = 'same')(c6)\n",
        "    u7 = concatenate([u7, c3])\n",
        "    u7 = Dropout(dropout)(u7)\n",
        "    c7 = conv2d_block(u7, n_filters * 4)\n",
        "\n",
        "    u8 = Conv2DTranspose(n_filters * 2, (3, 3), strides = (2, 2), padding = 'same')(c7)\n",
        "    u8 = concatenate([u8, c2])\n",
        "    u8 = Dropout(dropout)(u8)\n",
        "    c8 = conv2d_block(u8, n_filters * 2)\n",
        "\n",
        "    u9 = Conv2DTranspose(n_filters * 1, (3, 3), strides = (2, 2), padding = 'same')(c8)\n",
        "    u9 = concatenate([u9, c1])\n",
        "    u9 = Dropout(dropout)(u9)\n",
        "    c9 = conv2d_block(u9, n_filters * 1)\n",
        "\n",
        "    outputs = Conv2D(1, (1, 1), activation='sigmoid')(c9)\n",
        "    model = Model(inputs=[input_img], outputs=[outputs])\n",
        "    return model"
      ]
    },
    {
      "cell_type": "code",
      "execution_count": null,
      "metadata": {
        "id": "opp_x6kxaRaQ"
      },
      "outputs": [],
      "source": [
        "def conv2d_block(input_tensor, n_filters, kernel_size = 3, batchnorm = True):\n",
        "    \"\"\"Function to add 2 convolutional layers with the parameters passed to it\"\"\"\n",
        "    # first layer\n",
        "    x = Conv2D(filters = n_filters, kernel_size = (kernel_size, kernel_size),\\\n",
        "              kernel_initializer = 'he_normal', padding = 'same', name=\"conv1\" )(input_tensor)\n",
        "    if batchnorm:\n",
        "        x = BatchNormalization()(x)\n",
        "    x = Activation('relu')(x)\n",
        "\n",
        "    # second layer\n",
        "    x = Conv2D(filters = n_filters, kernel_size = (kernel_size, kernel_size),\\\n",
        "              kernel_initializer = 'he_normal', padding = 'same', name=\"conv2\")(x)\n",
        "    if batchnorm:\n",
        "        x = BatchNormalization()(x)\n",
        "    x = Activation('relu')(x)\n",
        "\n",
        "\n",
        "    return x\n",
        "\n",
        "\n",
        "\n",
        "\n",
        "import tensorflow as tf\n",
        "from tensorflow.keras.layers import Conv2D\n",
        "from tensorflow.keras.models import Model\n",
        "\n",
        "def add_conv_layers(input_tensor, n_filters=32, kernel_size=5, batchnorm=True):\n",
        "    conv1 = Conv2D(filters=n_filters, kernel_size=(5, 5),  \\\n",
        "                   padding=\"same\", activation=tf.nn.relu)(input_tensor)\n",
        "    conv2 = Conv2D(filters=64, kernel_size=(5, 5), padding=\"same\", activation=tf.nn.relu)(conv1)\n",
        "    return conv2\n",
        "\n",
        "input_tensor = tf.keras.layers.Input(shape=(128, 128, 3))\n",
        "output_tensor = add_conv_layers(input_tensor)\n",
        "\n",
        "model = Model(inputs=input_tensor, outputs=output_tensor)\n",
        "\n",
        "\n",
        "import tensorflow as tf\n",
        "\n",
        "def create_convolutional_model(input_tensor):\n",
        "    model = tf.keras.Sequential()\n",
        "    model.add(tf.keras.layers.Conv2D(32, (3, 3), activation='relu', input_shape=input_tensor))\n",
        "    model.add(tf.keras.layers.Conv2D(64, (3, 3), activation='relu'))\n",
        "    return model\n",
        "\n"
      ]
    },
    {
      "cell_type": "code",
      "execution_count": null,
      "metadata": {
        "id": "zh9St3HBF0Og"
      },
      "outputs": [],
      "source": [
        "def conv2d_block(input_tensor, n_filters, kernel_size = 3, batchnorm = True):\n",
        "    \"\"\"Function to add 2 convolutional layers with the parameters passed to it\"\"\"\n",
        "    # first layer\n",
        "    x = Conv2D(filters = n_filters, kernel_size = (kernel_size, kernel_size),\\\n",
        "              kernel_initializer = 'he_normal', padding = 'same')(input_tensor)\n",
        "    if batchnorm:\n",
        "        x = BatchNormalization()(x)\n",
        "    x = Activation('relu')(x)\n",
        "\n",
        "    # second layer\n",
        "    x = Conv2D(filters = n_filters, kernel_size = (kernel_size, kernel_size),\\\n",
        "              kernel_initializer = 'he_normal', padding = 'same')(input_tensor)\n",
        "    if batchnorm:\n",
        "        x = BatchNormalization()(x)\n",
        "    x = Activation('relu')(x)\n",
        "\n",
        "    return x\n",
        "\n",
        "\n",
        "def get_unet(input_img, n_filters = 16, dropout = 0.1, batchnorm = True):\n",
        "    # Contracting Path\n",
        "    c1 = conv2d_block(input_img, n_filters * 1, kernel_size = 3, batchnorm = batchnorm)\n",
        "    p1 = MaxPooling2D((2, 2))(c1)\n",
        "    p1 = Dropout(dropout)(p1)\n",
        "\n",
        "    c2 = conv2d_block(p1, n_filters * 2, kernel_size = 3, batchnorm = batchnorm)\n",
        "    p2 = MaxPooling2D((2, 2))(c2)\n",
        "    p2 = Dropout(dropout)(p2)\n",
        "\n",
        "    c3 = conv2d_block(p2, n_filters * 4, kernel_size = 3, batchnorm = batchnorm)\n",
        "    p3 = MaxPooling2D((2, 2))(c3)\n",
        "    p3 = Dropout(dropout)(p3)\n",
        "\n",
        "    c4 = conv2d_block(p3, n_filters * 8, kernel_size = 3, batchnorm = batchnorm)\n",
        "    p4 = MaxPooling2D((2, 2))(c4)\n",
        "    p4 = Dropout(dropout)(p4)\n",
        "\n",
        "    c5 = conv2d_block(p4, n_filters = n_filters * 16, kernel_size = 3, batchnorm = batchnorm)\n",
        "\n",
        "    # Expansive Path\n",
        "    u6 = Conv2DTranspose(n_filters * 8, (3, 3), strides = (2, 2), padding = 'same')(c5)\n",
        "    u6 = concatenate([u6, c4])\n",
        "    u6 = Dropout(dropout)(u6)\n",
        "    c6 = conv2d_block(u6, n_filters * 8, kernel_size = 3, batchnorm = batchnorm)\n",
        "\n",
        "    u7 = Conv2DTranspose(n_filters * 4, (3, 3), strides = (2, 2), padding = 'same')(c6)\n",
        "    u7 = concatenate([u7, c3])\n",
        "    u7 = Dropout(dropout)(u7)\n",
        "    c7 = conv2d_block(u7, n_filters * 4, kernel_size = 3, batchnorm = batchnorm)\n",
        "\n",
        "    u8 = Conv2DTranspose(n_filters * 2, (3, 3), strides = (2, 2), padding = 'same')(c7)\n",
        "    u8 = concatenate([u8, c2])\n",
        "    u8 = Dropout(dropout)(u8)\n",
        "    c8 = conv2d_block(u8, n_filters * 2, kernel_size = 3, batchnorm = batchnorm)\n",
        "\n",
        "    u9 = Conv2DTranspose(n_filters * 1, (3, 3), strides = (2, 2), padding = 'same')(c8)\n",
        "    u9 = concatenate([u9, c1])\n",
        "    u9 = Dropout(dropout)(u9)\n",
        "    c9 = conv2d_block(u9, n_filters * 1, kernel_size = 3, batchnorm = batchnorm)\n",
        "\n",
        "    outputs = Conv2D(1, (1, 1), activation='sigmoid')(c9)\n",
        "    model = Model(inputs=[input_img], outputs=[outputs])\n",
        "    return model"
      ]
    },
    {
      "cell_type": "code",
      "execution_count": null,
      "metadata": {
        "id": "Qp5EjiuGF0Gk"
      },
      "outputs": [],
      "source": [
        "# Define the function to load and preprocess the dataset\n",
        "def load_dataset():\n",
        "    file_names = os.listdir(dataset_dir)\n",
        "    num_samples = len(file_names)\n",
        "    images = []\n",
        "    masks = []\n",
        "\n",
        "    # Empty lists to hold png and xml files\n",
        "    png_files = []\n",
        "    xml_files = []\n",
        "    files = file_names\n",
        "    # Loop through the list of files\n",
        "    for file in files:\n",
        "        # Check if the file ends with '.png'\n",
        "        if file.endswith('.png'):\n",
        "            png_files.append(file)\n",
        "        # Check if the file ends with '.xml'\n",
        "        elif file.endswith('.xml'):\n",
        "            xml_files.append(file)\n",
        "\n",
        "    # Sort the png and xml files list\n",
        "    png_files.sort()\n",
        "    xml_files.sort()\n",
        "\n",
        "    # Normalize the bounding box coordinates\n",
        "    normalized_bounding_boxes = []\n",
        "\n",
        "    for i in range(len(png_files)):\n",
        "        file_path_img = os.path.join(dataset_dir, png_files[i])\n",
        "        file_path_mask = os.path.join(dataset_dir, xml_files[i])\n",
        "\n",
        "        # Load the image and mask using PIL or any other library suitable for your dataset\n",
        "\n",
        "        image = cv2.imread(file_path_img)\n",
        "\n",
        "        # Load the mask using the pandas read xml library\n",
        "        mask = pdx.read_xml(os.path.join(dataset_dir, file_path_mask))\n",
        "        mask = mask.pipe(flatten)\n",
        "\n",
        "\n",
        "        # Convert the image to a NumPy array\n",
        "\n",
        "\n",
        "\n",
        "        # Preprocess the image and mask as needed (e.g., resizing, normalization)\n",
        "        image = Image.fromarray(image)\n",
        "        image = image.resize((128, 128))\n",
        "        image = np.array(image)\n",
        "\n",
        "\n",
        "        # convert mask to numpy\n",
        "        mask = mask.to_numpy()\n",
        "\n",
        "        # Extract the width and height of the image\n",
        "        image_width = float(mask[0][4]['width'])\n",
        "        image_height = float(mask[0][4]['height'])\n",
        "\n",
        "        # Extract the bounding box data\n",
        "        bounding_boxes = []\n",
        "        try:\n",
        "          bounding_boxes.append(mask[0][6])\n",
        "        except:\n",
        "          print(f\"the file {i} does not include bounding box features\")\n",
        "          continue\n",
        "\n",
        "\n",
        "        try:\n",
        "          for bbox in bounding_boxes:\n",
        "            xmin = float(bbox['bndbox']['xmin']) / image_width\n",
        "            ymin = float(bbox['bndbox']['ymin']) / image_height\n",
        "            xmax = float(bbox['bndbox']['xmax']) / image_width\n",
        "            ymax = float(bbox['bndbox']['ymax']) / image_height\n",
        "          normalized_bounding_boxes.append([xmin, ymin, xmax, ymax])\n",
        "\n",
        "        except:\n",
        "          for j in range(len(bounding_boxes)):\n",
        "            bbox = bounding_boxes[j]\n",
        "          for k in range(len(bbox)):\n",
        "            xmin = float(bbox[k]['bndbox']['xmin']) / image_width\n",
        "            ymin = float(bbox[k]['bndbox']['ymin']) / image_height\n",
        "            xmax = float(bbox[k]['bndbox']['xmax']) / image_width\n",
        "            ymax = float(bbox[k]['bndbox']['ymax']) / image_height\n",
        "          normalized_bounding_boxes.append([xmin, ymin, xmax, ymax])\n",
        "\n",
        "\n",
        "\n",
        "\n",
        "        # Convert the list to a NumPy array\n",
        "        normalized_mask = np.array(normalized_bounding_boxes)\n",
        "\n",
        "        images.append(image)\n",
        "        masks.append(normalized_mask)\n",
        "\n",
        "    return np.array(images), np.array(normalized_mask)"
      ]
    },
    {
      "cell_type": "code",
      "execution_count": null,
      "metadata": {
        "id": "wvnVNFIA0U_M"
      },
      "outputs": [],
      "source": [
        "import os\n",
        "import cv2\n",
        "import numpy as np\n",
        "import pandas as pd\n",
        "from PIL import Image\n",
        "import xml.etree.ElementTree as ET\n",
        "\n",
        "# Define the function to load and preprocess the dataset\n",
        "def load_dataset(dataset_dir):\n",
        "    file_names = os.listdir(dataset_dir)\n",
        "    num_samples = len(file_names)\n",
        "    images = []\n",
        "    masks = []\n",
        "\n",
        "    # Loop through the list of files\n",
        "    for file in file_names:\n",
        "        # Check if the file ends with '.png'\n",
        "        if file.endswith('.png'):\n",
        "            file_path_img = os.path.join(dataset_dir, file)\n",
        "            file_path_mask = os.path.join(dataset_dir, file.replace('.png', '.xml'))\n",
        "\n",
        "            # Load the image using OpenCV\n",
        "            image = cv2.imread(file_path_img)\n",
        "\n",
        "            # Load the XML mask file\n",
        "            tree = ET.parse(file_path_mask)\n",
        "            root = tree.getroot()\n",
        "\n",
        "            # Create an empty mask with the same shape as the image\n",
        "            mask = np.zeros_like(image[:, :, 0], dtype=np.uint8)\n",
        "\n",
        "            # Iterate through XML elements to extract bounding box coordinates\n",
        "            for obj in root.findall('.//object'):\n",
        "                class_name = obj.find('name').text\n",
        "                if class_name == 'living_cell' or class_name == 'dead_cell':\n",
        "                    xmin = int(obj.find('bndbox/xmin').text)\n",
        "                    ymin = int(obj.find('bndbox/ymin').text)\n",
        "                    xmax = int(obj.find('bndbox/xmax').text)\n",
        "                    ymax = int(obj.find('bndbox/ymax').text)\n",
        "\n",
        "                    # Set the region defined by the bounding box to 1 in the mask\n",
        "                    mask[ymin:ymax, xmin:xmax] = 1\n",
        "\n",
        "            # Preprocess the image (resize, normalize) as needed\n",
        "            image = cv2.resize(image, (128, 128))\n",
        "            image = image / 255.0  # Normalize to [0, 1] if necessary\n",
        "\n",
        "            images.append(image)\n",
        "            masks.append(mask)\n",
        "\n",
        "    return np.array(images), np.array(masks)\n",
        "\n",
        "# Example usage:\n",
        "dataset_dir = \"your_dataset_directory_here\"\n",
        "images, masks = load_dataset(dataset_dir)\n"
      ]
    },
    {
      "cell_type": "code",
      "execution_count": null,
      "metadata": {
        "id": "FFSHeFiX2x8j"
      },
      "outputs": [],
      "source": [
        "# Define the function to load and preprocess the dataset\n",
        "\n",
        "def load_dataset(dataset_dir):\n",
        "  file_names = os.listdir(dataset_dir)\n",
        "  num_samples = len(file_names)\n",
        "  images = []\n",
        "  masks  = []\n",
        "\n",
        "  # Empty lists to hold png and xml files\n",
        "  png_files = []\n",
        "  xml_files = []\n",
        "  files = file_names\n",
        "\n",
        "  # Loop through the list of files\n",
        "  for file in files:\n",
        "    # Check if the file ends with '.png'\n",
        "    if file.endswith('.png'):\n",
        "      png_files.append(file)\n",
        "    # Check if the file ends with '.xml'\n",
        "    elif file.endswith('.xml'):\n",
        "      xml_files.append(file)\n",
        "\n",
        "  # Sort the png and xml files list\n",
        "  png_files.sort()\n",
        "  xml_files.sort()\n",
        "\n",
        "  # Normalize the bounding box coordinates\n",
        "  normalized_bounding_boxes = []\n",
        "\n",
        "  ##############################\n",
        "  for i in range(len(png_files)):\n",
        "    file_path_img = os.path.join(dataset_dir, png_files[i])\n",
        "    file_path_mask = os.path.join(dataset_dir, xml_files[i])\n",
        "\n",
        "  # Load the image and mask using PIL or any other library suitable for your dataset\n",
        "\t# Preprocess the image and mask as needed (e.g., resizing, normalization)\n",
        "    image = cv2.imread(file_path_img)\n",
        "  \timage = Image.fromarray(image)\n",
        "    image = image.resize((128, 128))\n",
        "    # Convert the image to a NumPy array\n",
        "    # Preprocess the image (resize, normalize) as needed\n",
        "    # image = cv2.resize(image, (128, 128))\n",
        "    image = np.array(image)\n",
        "    image = image / 255.0  # Normalize to [0, 1] if necessary\n",
        "\n",
        "    # Load the mask using the pandas read xml library\n",
        "    root = pdx.read_xml(os.path.join(dataset_dir, file_path_mask))\n",
        "    root = mask.pipe(flatten)\n",
        "\n",
        "    # Create an empty mask with the same shape as the image\n",
        "    mask = np.zeros_like(image[:, :, 0], dtype=np.uint8)\n",
        "\n",
        "    # Iterate through XML elements to extract bounding box coordinates\n",
        "    for obj in root.findall('.//object'):\n",
        "      class_name = obj.find('name').text\n",
        "      if class_name == 'living_cell':\n",
        "        xmin = int(obj.find('bndbox/xmin').text)\n",
        "        ymin = int(obj.find('bndbox/ymin').text)\n",
        "        xmax = int(obj.find('bndbox/xmax').text)\n",
        "        ymax = int(obj.find('bndbox/ymax').text)\n",
        "\n",
        "        # Set the region defined by the bounding box to 1 in the mask\n",
        "        mask[ymin:ymax, xmin:xmax] = 1\n",
        "      else:\n",
        "        xmin = int(obj.find('bndbox/xmin').text)\n",
        "        ymin = int(obj.find('bndbox/ymin').text)\n",
        "        xmax = int(obj.find('bndbox/xmax').text)\n",
        "        ymax = int(obj.find('bndbox/ymax').text)\n",
        "\n",
        "        # Set the region defined by the bounding box to 1 in the mask\n",
        "        mask[ymin:ymax, xmin:xmax] = 2\n",
        "\n",
        "\n",
        "\n",
        "    images.append(image)\n",
        "    masks.append(mask)\n",
        "\n",
        "    return np.array(images), np.array(masks)\n",
        "\n"
      ]
    },
    {
      "cell_type": "code",
      "execution_count": null,
      "metadata": {
        "id": "Bla_jEFNZLBc"
      },
      "outputs": [],
      "source": [
        "# Define the function to load and preprocess the dataset\n",
        "def load_dataset():\n",
        "    file_names = os.listdir(dataset_dir)\n",
        "    num_samples = len(file_names)\n",
        "    images = []\n",
        "    masks = []\n",
        "\n",
        "    # Empty lists to hold png and xml files\n",
        "    png_files = []\n",
        "    xml_files = []\n",
        "    files = file_names\n",
        "    # Loop through the list of files\n",
        "    for file in files:\n",
        "        # Check if the file ends with '.png'\n",
        "        if file.endswith('.png'):\n",
        "            png_files.append(file)\n",
        "        # Check if the file ends with '.xml'\n",
        "        elif file.endswith('.xml'):\n",
        "            xml_files.append(file)\n",
        "\n",
        "    # Sort the png and xml files list\n",
        "    png_files.sort()\n",
        "    xml_files.sort()\n",
        "\n",
        "    # Normalize the bounding box coordinates\n",
        "    normalized_bounding_boxes = []\n",
        "\n",
        "    for i in range(len(png_files)):\n",
        "        file_path_img = os.path.join(dataset_dir, png_files[i])\n",
        "        file_path_mask = os.path.join(dataset_dir, xml_files[i])\n",
        "\n",
        "        # Load the image and mask using PIL or any other library suitable for your dataset\n",
        "\n",
        "        image = cv2.imread(file_path_img)\n",
        "\n",
        "        # Load the mask using the pandas read xml library\n",
        "        mask = pdx.read_xml(os.path.join(dataset_dir, file_path_mask))\n",
        "        mask = mask.pipe(flatten)\n",
        "\n",
        "\n",
        "        # Convert the image to a NumPy array\n",
        "        #image = np.array(image)\n",
        "\n",
        "\n",
        "        # Preprocess the image and mask as needed (e.g., resizing, normalization)\n",
        "        image = Image.fromarray(image)\n",
        "        image = image.resize((128, 128))\n",
        "        image = np.array(image)\n",
        "\n",
        "\n",
        "        # convert mask to numpy\n",
        "        mask = mask.to_numpy()\n",
        "\n",
        "        # Extract the width and height of the image\n",
        "        image_width = float(mask[0][4]['width'])\n",
        "        image_height = float(mask[0][4]['height'])\n",
        "\n",
        "        # Extract the bounding box data\n",
        "        bounding_boxes = []\n",
        "        try:\n",
        "          bounding_boxes.append(mask[0][6])\n",
        "        except:\n",
        "          print(f\"the file {i} does not include bounding box features\")\n",
        "          continue\n",
        "\n",
        "\n",
        "        try:\n",
        "          for bbox in bounding_boxes:\n",
        "            xmin = float(bbox['bndbox']['xmin']) / image_width\n",
        "            ymin = float(bbox['bndbox']['ymin']) / image_height\n",
        "            xmax = float(bbox['bndbox']['xmax']) / image_width\n",
        "            ymax = float(bbox['bndbox']['ymax']) / image_height\n",
        "          normalized_bounding_boxes.append([xmin, ymin, xmax, ymax])\n",
        "              #print(\"done!\")\n",
        "        except:\n",
        "          #print(len(bounding_boxes))\n",
        "          for j in range(len(bounding_boxes)):\n",
        "            #print(bounding_boxes[j])\n",
        "            bbox = bounding_boxes[j]\n",
        "            #print(type(bbox))\n",
        "          for k in range(len(bbox)):\n",
        "            xmin = float(bbox[k]['bndbox']['xmin']) / image_width\n",
        "            ymin = float(bbox[k]['bndbox']['ymin']) / image_height\n",
        "            xmax = float(bbox[k]['bndbox']['xmax']) / image_width\n",
        "            ymax = float(bbox[k]['bndbox']['ymax']) / image_height\n",
        "          normalized_bounding_boxes.append([xmin, ymin, xmax, ymax])\n",
        "            #print(\"Donee!!\")\n",
        "            #if bbox['bndbox'] != 0:\n",
        "              #print(bbox)\n",
        "          #break\n",
        "\n",
        "        # for j in range(len(bounding_boxes)):\n",
        "\n",
        "\n",
        "        # Convert the list to a NumPy array\n",
        "        normalized_mask = np.array(normalized_bounding_boxes)\n",
        "\n",
        "        # mask = Image.fromarray(mask)\n",
        "        # mask = mask.resize((128, 128))\n",
        "        # mask = np.array(mask)\n",
        "\n",
        "        # Normalize pixel values if required\n",
        "        #image = image / 255.0\n",
        "        #mask = mask / 255.0\n",
        "\n",
        "        # Expand dimensions if necessary (e.g., for grayscale images)\n",
        "        #if len(image.shape) == 2:\n",
        "         # image = np.expand_dims(image, axis=-1)\n",
        "\n",
        "        #if len(mask.shape) == 2:\n",
        "         # mask = np.expand_dims(mask, axis=-1)\n",
        "\n",
        "        # Append the preprocessed image and mask to the respective lists\n",
        "        images.append(image)\n",
        "        masks.append(normalized_mask)\n",
        "\n",
        "    return np.array(images), np.array(normalized_mask)"
      ]
    },
    {
      "cell_type": "code",
      "execution_count": null,
      "metadata": {
        "id": "j6KLxIVhZQ8e"
      },
      "outputs": [],
      "source": [
        "# Define the function to load and preprocess the dataset\n",
        "def load_dataset():\n",
        "    file_names = os.listdir(dataset_dir)\n",
        "    num_samples = len(file_names)\n",
        "    images = []\n",
        "    masks = []\n",
        "\n",
        "    # Empty lists to hold png and xml files\n",
        "    png_files = []\n",
        "    xml_files = []\n",
        "    files = file_names\n",
        "    # Loop through the list of files\n",
        "    for file in files:\n",
        "        # Check if the file ends with '.png'\n",
        "        if file.endswith('.png'):\n",
        "            png_files.append(file)\n",
        "        # Check if the file ends with '.xml'\n",
        "        elif file.endswith('.xml'):\n",
        "            xml_files.append(file)\n",
        "\n",
        "    # Sort the png and xml files list\n",
        "    png_files.sort()\n",
        "    xml_files.sort()\n",
        "\n",
        "    #pop the last list\n",
        "    #png_files.pop()\n",
        "    #xml_files.pop()\n",
        "\n",
        "    # Normalize the bounding box coordinates\n",
        "    normalized_bounding_boxes = []\n",
        "\n",
        "    for i in range(len(png_files)):\n",
        "        file_path_img = os.path.join(dataset_dir, png_files[i])\n",
        "        file_path_mask = os.path.join(dataset_dir, xml_files[i])\n",
        "\n",
        "        # Load the image and mask using PIL or any other library suitable for your dataset\n",
        "\n",
        "        image = cv2.imread(file_path_img)\n",
        "\n",
        "        # Load the mask using the pandas read xml library\n",
        "        mask = pdx.read_xml(os.path.join(dataset_dir, file_path_mask))\n",
        "        mask = mask.pipe(flatten)\n",
        "\n",
        "\n",
        "        # Convert the image to a NumPy array\n",
        "        #image = np.array(image)\n",
        "\n",
        "\n",
        "        # Preprocess the image and mask as needed (e.g., resizing, normalization)\n",
        "        image = Image.fromarray(image)\n",
        "        # Convert the image to grayscale\n",
        "        image = image.resize((128, 128))\n",
        "        image = np.array(image)\n",
        "        gray_image = cv2.cvtColor(image, cv2.COLOR_BGR2GRAY)\n",
        "\n",
        "        # The resulting grayscale image will have shape (128, 128)\n",
        "        # If you want the shape to be (128, 128, 1), you can add a third dimension\n",
        "        gray_image_array = gray_image[:, :, np.newaxis]\n",
        "        #image = image.resize((128, 128))\n",
        "        #image = np.array(image)\n",
        "\n",
        "\n",
        "        # convert mask to numpy\n",
        "        mask = mask.to_numpy()\n",
        "\n",
        "        # Extract the width and height of the image\n",
        "        image_width = float(mask[0][4]['width'])\n",
        "        image_height = float(mask[0][4]['height'])\n",
        "\n",
        "        # Extract the bounding box data\n",
        "        bounding_boxes = []\n",
        "        try:\n",
        "          bounding_boxes.append(mask[0][6])\n",
        "        except:\n",
        "          print(f\"the file {i} does not include bounding box features\")\n",
        "          continue\n",
        "\n",
        "\n",
        "        try:\n",
        "          for bbox in bounding_boxes:\n",
        "            xmin = float(bbox['bndbox']['xmin']) / image_width\n",
        "            ymin = float(bbox['bndbox']['ymin']) / image_height\n",
        "            xmax = float(bbox['bndbox']['xmax']) / image_width\n",
        "            ymax = float(bbox['bndbox']['ymax']) / image_height\n",
        "          normalized_bounding_boxes.append([xmin, ymin, xmax, ymax])\n",
        "              #print(\"done!\")\n",
        "        except:\n",
        "          #print(len(bounding_boxes))\n",
        "          for j in range(len(bounding_boxes)):\n",
        "            #print(bounding_boxes[j])\n",
        "            bbox = bounding_boxes[j]\n",
        "            #print(type(bbox))\n",
        "          for k in range(len(bbox)):\n",
        "            xmin = float(bbox[k]['bndbox']['xmin']) / image_width\n",
        "            ymin = float(bbox[k]['bndbox']['ymin']) / image_height\n",
        "            xmax = float(bbox[k]['bndbox']['xmax']) / image_width\n",
        "            ymax = float(bbox[k]['bndbox']['ymax']) / image_height\n",
        "          normalized_bounding_boxes.append([xmin, ymin, xmax, ymax])\n",
        "            #print(\"Donee!!\")\n",
        "            #if bbox['bndbox'] != 0:\n",
        "              #print(bbox)\n",
        "          #break\n",
        "        # Reshape the grayscale image array to have shape (128, 128, 1)\n",
        "        #gray_image_array = gray_image_array.reshape((128, 128, 1))\n",
        "\n",
        "        # Convert the list to a NumPy array\n",
        "        normalized_mask = np.array(normalized_bounding_boxes)\n",
        "\n",
        "        # Convert the image to grayscale using a weighted average\n",
        "        #gray_image_array = np.dot(image[...,:3], [0.2989, 0.5870, 0.1140])\n",
        "\n",
        "        # Reshape the grayscale image array to have shape (128, 128, 1)\n",
        "        #gray_image_array = gray_image_array.reshape((128, 128, 1))\n",
        "\n",
        "        # Expand dimensions if necessary (e.g., for grayscale images)\n",
        "        # if len(image.shape) == 2:\n",
        "        #   image = np.expand_dims(image, axis=-1)\n",
        "\n",
        "        if len(normalized_mask.shape) == 2:\n",
        "          normalized_mask = np.expand_dims(normalized_mask, axis=-1)\n",
        "\n",
        "\n",
        "        # Append the preprocessed image and mask to the respective lists\n",
        "        images.append(gray_image_array)\n",
        "        masks.append(normalized_mask)\n",
        "\n",
        "    return np.array(images), np.array(normalized_mask)"
      ]
    }
  ],
  "metadata": {
    "colab": {
      "provenance": []
    },
    "kernelspec": {
      "display_name": "Python 3",
      "name": "python3"
    },
    "language_info": {
      "name": "python"
    }
  },
  "nbformat": 4,
  "nbformat_minor": 0
}